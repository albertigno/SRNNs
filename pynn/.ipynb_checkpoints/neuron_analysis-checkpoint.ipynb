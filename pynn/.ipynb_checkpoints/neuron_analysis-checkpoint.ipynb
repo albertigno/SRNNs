{
 "cells": [
  {
   "cell_type": "code",
   "execution_count": 30,
   "metadata": {},
   "outputs": [
    {
     "name": "stderr",
     "output_type": "stream",
     "text": [
      "NEST does not allow setting an initial value for g_ex\n",
      "NEST does not allow setting an initial value for g_in\n",
      "NEST does not allow setting an initial value for g_ex\n",
      "NEST does not allow setting an initial value for g_in\n"
     ]
    },
    {
     "data": {
      "image/png": "[encoded data removed]",
      "text/plain": [
       "<Figure size 432x288 with 1 Axes>"
      ]
     },
     "metadata": {
      "needs_background": "light"
     },
     "output_type": "display_data"
    },
    {
     "name": "stdout",
     "output_type": "stream",
     "text": [
      "0.10476146635721974 mV\n"
     ]
    }
   ],
   "source": [
    "import pyNN.nest as sim\n",
    "import numpy as np\n",
    "\n",
    "dt = 1.0\n",
    "duration = 50\n",
    "\n",
    "sim.setup(timestep=dt, min_delay=dt)\n",
    "\n",
    "delay_1 = 1.0\n",
    "delay_2 = 5.0\n",
    "\n",
    "v_th = 0.3\n",
    "\n",
    "q = 10.0\n",
    "tau_syn = 0.01/q\n",
    "\n",
    "e_rev = 10000\n",
    "cm = e_rev/345\n",
    "\n",
    "cellparams_cond = {'v_thresh': v_th, 'v_reset': -0.2, 'v_rest': 0.0, 'e_rev_E': e_rev, 'e_rev_I': -e_rev, 'i_offset': 0.0,\n",
    "              'cm': cm/q, 'tau_m': 0.8325, 'tau_syn_E': tau_syn, 'tau_syn_I': tau_syn, 'tau_refrac': 0.0}\n",
    "\n",
    "# [[exc_spikes],[inh_spikes]]\n",
    "t1 = [[3, 7, 14.7], [15, 30]]\n",
    "\n",
    "input_celltype = sim.SpikeSourceArray(spike_times=t1)\n",
    "\n",
    "pop0 = sim.Population(2,input_celltype)\n",
    "\n",
    "type = 'cond'\n",
    "\n",
    "w = 0.1\n",
    "\n",
    "pop1 = sim.Population(1, sim.IF_cond_exp(**cellparams_cond))\n",
    "pop2 = sim.Population(1, sim.IF_cond_exp(**cellparams_cond))\n",
    "\n",
    "w1 = [[0, 0, w, delay_1], [1, 0, w, delay_2]]\n",
    "w2 = [[0, 0, w, delay_1], [1, 0, w, delay_2]]\n",
    "\n",
    "pop1.initialize(v=0)\n",
    "pop2.initialize(v=0)\n",
    "\n",
    "pop1.record(['spikes','v'])\n",
    "pop2.record(['spikes','v'])\n",
    "pop0.record(['spikes'])\n",
    "\n",
    "# create synapsis\n",
    "conn1 = sim.FromListConnector(w1)\n",
    "conn2 = sim.FromListConnector(w2)\n",
    "\n",
    "sim.Projection(pop0, pop1, connector=conn1, receptor_type='excitatory')\n",
    "sim.Projection(pop0, pop2, connector=conn2, receptor_type='inhibitory')\n",
    "#sim.Projection(pop1, pop1, connector=conn3)\n",
    "\n",
    "sim.run(duration)\n",
    "\n",
    "sp0 = pop0.get_data().segments[-1].spiketrains\n",
    "mem1 = pop1.get_data().segments[-1].analogsignals[0]\n",
    "mem2 = pop2.get_data().segments[-1].analogsignals[0]\n",
    "sp1 = pop1.get_data().segments[-1].spiketrains\n",
    "sp2 = pop2.get_data().segments[-1].spiketrains\n",
    "\n",
    "from matplotlib import pyplot as plt\n",
    "\n",
    "plt.close('all')\n",
    "fig=plt.figure('potentials')\n",
    "plt.plot(mem1, color = 'b', label='sn_cond_inh')\n",
    "plt.plot(mem2, color = 'r', label='sn_cond_exc')\n",
    "plt.eventplot(t1[0], lineoffsets=0, linelengths=0.15, colors='g', label='pre_spikes')\n",
    "plt.eventplot(t1[1], lineoffsets=0, linelengths=0.15, colors='k', label='pre_spikes')\n",
    "plt.eventplot(sp1, lineoffsets=1, linelengths=0.25, colors='b', label='post_spikes')\n",
    "#plt.eventplot(sp2, lineoffsets=-4, linelengths=0.25, colors='r', label='post_spikes')\n",
    "plt.hlines(v_th, 0, duration/dt, 'g', 'dashed')\n",
    "#plt.legend()\n",
    "plt.title('Single neuron dynamics, nest')\n",
    "plt.ylabel('Membrane potential (mV)')\n",
    "plt.xlabel('Time (ms)')   \n",
    "#plt.savefig('neuron_comparison.png', dpi=300)\n",
    "plt.show()\n",
    "\n",
    "print(np.max(mem1))\n"
   ]
  },
  {
   "cell_type": "code",
   "execution_count": null,
   "metadata": {},
   "outputs": [],
   "source": []
  }
 ],
 "metadata": {
  "kernelspec": {
   "display_name": "Python 3",
   "language": "python",
   "name": "python3"
  },
  "language_info": {
   "codemirror_mode": {
    "name": "ipython",
    "version": 3
   },
   "file_extension": ".py",
   "mimetype": "text/x-python",
   "name": "python",
   "nbconvert_exporter": "python",
   "pygments_lexer": "ipython3",
   "version": "3.7.3"
  }
 },
 "nbformat": 4,
 "nbformat_minor": 2
}
