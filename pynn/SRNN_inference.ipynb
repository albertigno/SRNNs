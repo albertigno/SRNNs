{
 "cells": [
  {
   "cell_type": "code",
   "execution_count": 55,
   "metadata": {},
   "outputs": [
    {
     "name": "stdout",
     "output_type": "stream",
     "text": [
      "The autoreload extension is already loaded. To reload it, use:\n",
      "  %reload_ext autoreload\n"
     ]
    }
   ],
   "source": [
    "from rsnn_pynn import *\n",
    "%load_ext autoreload\n",
    "%autoreload 1\n",
    "%aimport rsnn_pynn"
   ]
  },
  {
   "cell_type": "code",
   "execution_count": 56,
   "metadata": {},
   "outputs": [],
   "source": [
    "import pyNN.nest as sim"
   ]
  },
  {
   "cell_type": "code",
   "execution_count": 57,
   "metadata": {},
   "outputs": [
    {
     "name": "stderr",
     "output_type": "stream",
     "text": [
      "NEST does not allow setting an initial value for g_ex\n",
      "NEST does not allow setting an initial value for g_in\n",
      "NEST does not allow setting an initial value for g_ex\n",
      "NEST does not allow setting an initial value for g_in\n",
      "NEST does not allow setting an initial value for g_ex\n",
      "NEST does not allow setting an initial value for g_in\n"
     ]
    }
   ],
   "source": [
    "s1 = RSNN_PyNN(sim, timestep =1.0, dataset='heidelberg', modelname='256/', num_to_test= 100)              "
   ]
  },
  {
   "cell_type": "code",
   "execution_count": 58,
   "metadata": {},
   "outputs": [
    {
     "name": "stdout",
     "output_type": "stream",
     "text": [
      "[10 11  7 10  3  5  0 10 18  5 16 14 12  8  0 16 10 16 17 13 19  9  7  4\n",
      "  6  9  0  0  9  9  6  2  3 12  8  8  7 10 12 10 14  8  6  0 11  8  7 17\n",
      "  5  7 13 11 18  6 11  6 15 17 14  0  1 18 17 13  0 18 13  5 14  1 10 13\n",
      " 14 14 10 11  4  3  7 17  8  7 14 14  7 16  3 14 15  5 19 10 16  8 19  0\n",
      " 19  1  6  1]\n",
      "[10 11  7 10  3 11 10 10 18  9 16  0 12  8  0  6  3 16  3 13 19 13 11 10\n",
      "  6  9  0 10 13  9  6  2  3 12  8  8  7 10 12 10 14 16  6 10 11  8 12 17\n",
      " 11  7 13 11 18  6 11  6 15 17 14  3  1 18  2 19  0 18 13 13 14  1  3  9\n",
      " 14  3 19 11  4  3  7 17  8  7  2 14  7 16  4 10 15 15 19 10 16  8 19  0\n",
      "  1  1  6  1]\n",
      "accuracy: 71.0%\n"
     ]
    }
   ],
   "source": [
    "s1.run()"
   ]
  },
  {
   "cell_type": "code",
   "execution_count": 53,
   "metadata": {},
   "outputs": [
    {
     "name": "stderr",
     "output_type": "stream",
     "text": [
      "NEST does not allow setting an initial value for g_ex\n",
      "NEST does not allow setting an initial value for g_in\n",
      "NEST does not allow setting an initial value for g_ex\n",
      "NEST does not allow setting an initial value for g_in\n",
      "NEST does not allow setting an initial value for g_ex\n",
      "NEST does not allow setting an initial value for g_in\n"
     ]
    }
   ],
   "source": [
    "s2 = RSNN_PyNN(sim, timestep =1.0, dataset='mnist', modelname='256/', num_to_test= 20)"
   ]
  },
  {
   "cell_type": "code",
   "execution_count": 54,
   "metadata": {},
   "outputs": [
    {
     "name": "stdout",
     "output_type": "stream",
     "text": [
      "[7 2 1 0 4 1 4 9 5 9 0 6 9 0 1 5 9 7 3 4]\n",
      "[7 2 1 0 4 1 4 9 4 0 0 0 4 0 0 3 9 7 3 4]\n",
      "accuracy: 70.0%\n"
     ]
    }
   ],
   "source": [
    "s2.run()"
   ]
  },
  {
   "cell_type": "code",
   "execution_count": null,
   "metadata": {},
   "outputs": [],
   "source": []
  }
 ],
 "metadata": {
  "kernelspec": {
   "display_name": "Python 3",
   "language": "python",
   "name": "python3"
  },
  "language_info": {
   "codemirror_mode": {
    "name": "ipython",
    "version": 3
   },
   "file_extension": ".py",
   "mimetype": "text/x-python",
   "name": "python",
   "nbconvert_exporter": "python",
   "pygments_lexer": "ipython3",
   "version": "3.7.3"
  }
 },
 "nbformat": 4,
 "nbformat_minor": 2
}
