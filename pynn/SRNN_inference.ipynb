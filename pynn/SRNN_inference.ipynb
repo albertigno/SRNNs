{
 "cells": [
  {
   "cell_type": "code",
   "execution_count": 13,
   "metadata": {},
   "outputs": [
    {
     "name": "stdout",
     "output_type": "stream",
     "text": [
      "The autoreload extension is already loaded. To reload it, use:\n",
      "  %reload_ext autoreload\n"
     ]
    }
   ],
   "source": [
    "from rsnn_pynn import *\n",
    "%load_ext autoreload\n",
    "%autoreload 1\n",
    "%aimport rsnn_pynn"
   ]
  },
  {
   "cell_type": "code",
   "execution_count": 14,
   "metadata": {},
   "outputs": [],
   "source": [
    "import pyNN.nest as sim"
   ]
  },
  {
   "cell_type": "code",
   "execution_count": 15,
   "metadata": {},
   "outputs": [
    {
     "name": "stderr",
     "output_type": "stream",
     "text": [
      "NEST does not allow setting an initial value for g_ex\n",
      "NEST does not allow setting an initial value for g_in\n",
      "NEST does not allow setting an initial value for g_ex\n",
      "NEST does not allow setting an initial value for g_in\n",
      "NEST does not allow setting an initial value for g_ex\n",
      "NEST does not allow setting an initial value for g_in\n"
     ]
    }
   ],
   "source": [
    "s1 = RSNN_PyNN(sim, timestep =1.0, dataset='heidelberg', modelname='256/', num_to_test= 100)              "
   ]
  },
  {
   "cell_type": "code",
   "execution_count": null,
   "metadata": {},
   "outputs": [],
   "source": [
    "s1.run()"
   ]
  },
  {
   "cell_type": "code",
   "execution_count": 53,
   "metadata": {},
   "outputs": [
    {
     "name": "stderr",
     "output_type": "stream",
     "text": [
      "NEST does not allow setting an initial value for g_ex\n",
      "NEST does not allow setting an initial value for g_in\n",
      "NEST does not allow setting an initial value for g_ex\n",
      "NEST does not allow setting an initial value for g_in\n",
      "NEST does not allow setting an initial value for g_ex\n",
      "NEST does not allow setting an initial value for g_in\n"
     ]
    }
   ],
   "source": [
    "s2 = RSNN_PyNN(sim, timestep =1.0, dataset='mnist', modelname='256/', num_to_test= 20)"
   ]
  },
  {
   "cell_type": "code",
   "execution_count": 54,
   "metadata": {},
   "outputs": [
    {
     "name": "stdout",
     "output_type": "stream",
     "text": [
      "[7 2 1 0 4 1 4 9 5 9 0 6 9 0 1 5 9 7 3 4]\n",
      "[7 2 1 0 4 1 4 9 4 0 0 0 4 0 0 3 9 7 3 4]\n",
      "accuracy: 70.0%\n"
     ]
    }
   ],
   "source": [
    "s2.run()"
   ]
  },
  {
   "cell_type": "code",
   "execution_count": null,
   "metadata": {},
   "outputs": [],
   "source": []
  }
 ],
 "metadata": {
  "kernelspec": {
   "display_name": "Python 3",
   "language": "python",
   "name": "python3"
  },
  "language_info": {
   "codemirror_mode": {
    "name": "ipython",
    "version": 3
   },
   "file_extension": ".py",
   "mimetype": "text/x-python",
   "name": "python",
   "nbconvert_exporter": "python",
   "pygments_lexer": "ipython3",
   "version": "3.7.3"
  }
 },
 "nbformat": 4,
 "nbformat_minor": 2
}
