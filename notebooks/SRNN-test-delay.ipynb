{
 "cells": [
  {
   "cell_type": "code",
   "execution_count": 1,
   "metadata": {},
   "outputs": [
    {
     "name": "stderr",
     "output_type": "stream",
     "text": [
      "/Users/alberto/anaconda3/lib/python3.6/site-packages/h5py/__init__.py:36: FutureWarning: Conversion of the second argument of issubdtype from `float` to `np.floating` is deprecated. In future, it will be treated as `np.float64 == np.dtype(float).type`.\n",
      "  from ._conv import register_converters as _register_converters\n"
     ]
    },
    {
     "name": "stdout",
     "output_type": "stream",
     "text": [
      "False\n",
      "cpu\n"
     ]
    }
   ],
   "source": [
    "\"\"\"\n",
    "@author: albertigno\n",
    "\n",
    "\"\"\"\n",
    "\n",
    "from MyLargeDataset import *\n",
    "from snn_models_with_delay import *\n",
    "\n",
    "import torch, time, os\n",
    "\n",
    "import torch.nn as nn\n",
    "import torch.nn.functional as F\n",
    "\n",
    "import networkx as nx\n",
    "\n",
    "import matplotlib.pyplot as plt\n",
    "from matplotlib.gridspec import GridSpec\n",
    "\n",
    "print(torch.cuda.is_available())\n",
    "device = torch.device(\"cuda:0\" if torch.cuda.is_available() else \"cpu\")\n",
    "print (device)"
   ]
  },
  {
   "cell_type": "code",
   "execution_count": 2,
   "metadata": {},
   "outputs": [],
   "source": [
    "# dummy dataset\n",
    "\n",
    "from PIL import Image, ImageDraw, ImageFont \n",
    "img = Image.new('RGB', (100, 25), color = (255, 255, 255))\n",
    "font = ImageFont.truetype(\"arial.ttf\", 20)\n",
    "d = ImageDraw.Draw(img)\n",
    "d.text((1,1), \"Spiking NNs\", fill=(0,0,0), font=font)\n",
    "img.save('pil_text.png')"
   ]
  },
  {
   "cell_type": "code",
   "execution_count": 3,
   "metadata": {},
   "outputs": [],
   "source": [
    "import numpy as np\n",
    "\n",
    "im= 1.0*(np.asarray(Image.open('pil_text.png')) > 128)\n",
    "#img = torch.from_numpy(i).permute(2,1,0)\n",
    "#img.shape"
   ]
  },
  {
   "cell_type": "code",
   "execution_count": 4,
   "metadata": {},
   "outputs": [],
   "source": [
    "thresh = 0.3\n",
    "decay = 0.3\n",
    "batch_size = 1\n",
    "learning_rate = 1e-4\n",
    "time_window = 50 # shd\n",
    "\n",
    "dataset_path = r'./../../datasets'\n",
    "\n",
    "best_acc = 0\n",
    "acc_record = list([])"
   ]
  },
  {
   "cell_type": "code",
   "execution_count": 5,
   "metadata": {},
   "outputs": [
    {
     "name": "stdout",
     "output_type": "stream",
     "text": [
      "False\n",
      "cpu\n",
      "loading test set...\n",
      "torch.Size([2264, 50, 700])\n",
      "torch.Size([2264])\n",
      "num sample: 2264\n",
      "torch.Size([2264, 50, 700]) torch.Size([2264, 20])\n"
     ]
    }
   ],
   "source": [
    "print(torch.cuda.is_available())\n",
    "device = torch.device(\"cuda:0\" if torch.cuda.is_available() else \"cpu\")\n",
    "print (device)\n",
    "\n",
    "#test_path = 'pil_text.png'\n",
    "dataset_path = r'./../../datasets'\n",
    "\n",
    "test_path = dataset_path+'/shd_digits/shd_test.h5'\n",
    "\n",
    "\n",
    "print(\"loading test set...\")\n",
    "#test_dataset = MyDataset(test_path, 'dummy_numpy', time_window)\n",
    "\n",
    "test_dataset = MyDataset(test_path, 'hd_digits', time_window)\n",
    "\n",
    "#test_loader = torch.utils.data.DataLoader(dataset=test_dataset,\n",
    "#                                          batch_size=batch_size,\n",
    "#                                          shuffle=False, drop_last=True)\n",
    "#"
   ]
  },
  {
   "cell_type": "code",
   "execution_count": 6,
   "metadata": {},
   "outputs": [],
   "source": [
    "test_loader = torch.utils.data.DataLoader(dataset=test_dataset,\n",
    "                                          batch_size=batch_size,\n",
    "                                          shuffle=False, drop_last=True)\n"
   ]
  },
  {
   "cell_type": "code",
   "execution_count": 7,
   "metadata": {},
   "outputs": [],
   "source": [
    "#snn = RSNN_delay(d='custom_25_5', num_hidden=4, thresh=0.3, decay=0.3, batch_size=batch_size, win=time_window, device=device)\n",
    "snn = RSNN_delay(d='shd', num_hidden=4, thresh=0.3, decay=0.3, batch_size=batch_size, win=time_window, device=device)"
   ]
  },
  {
   "cell_type": "code",
   "execution_count": 8,
   "metadata": {},
   "outputs": [],
   "source": [
    "num_epochs = 50\n",
    "    \n",
    "snn.to(device)\n",
    "\n",
    "delays = torch.Tensor([[0],[2],[5],[10]])\n",
    "\n",
    "snn.d_ih.weight.data = torch.nn.Parameter(delays*torch.ones(snn.num_hidden, snn.num_input, device=snn.device)) \n",
    "\n",
    "criterion = nn.MSELoss()\n",
    "\n",
    "#modelname = 'shd_rnn_{}.t7'.format(snn.num_hidden)\n",
    "\n",
    "def lr_scheduler(optimizer, epoch, init_lr=0.1, lr_decay_epoch=100):\n",
    "    \"\"\"Decay learning rate by a factor of 0.1 every lr_decay_epoch epochs.\"\"\"\n",
    "\n",
    "    if epoch % lr_decay_epoch == 0 and epoch > 1:\n",
    "        for param_group in optimizer.param_groups:\n",
    "            param_group['lr'] = param_group['lr'] * 0.98\n",
    "\n",
    "    return optimizer\n",
    "\n",
    "optimizer = torch.optim.Adam(snn.parameters(), lr=learning_rate)\n",
    "\n",
    "act_fun = ActFun.apply\n",
    "#print(modelname)"
   ]
  },
  {
   "cell_type": "code",
   "execution_count": 9,
   "metadata": {},
   "outputs": [],
   "source": [
    "for i, (images, labels) in enumerate(test_loader):\n",
    "\n",
    "    snn.zero_grad()\n",
    "    optimizer.zero_grad()\n",
    "\n",
    "    images = images.float().to(device)\n",
    "    outputs = snn(images)\n",
    "    \n",
    "    break\n"
   ]
  },
  {
   "cell_type": "code",
   "execution_count": 10,
   "metadata": {},
   "outputs": [
    {
     "data": {
      "text/plain": [
       "Parameter containing:\n",
       "tensor([[ 0.,  0.,  0.,  ...,  0.,  0.,  0.],\n",
       "        [ 2.,  2.,  2.,  ...,  2.,  2.,  2.],\n",
       "        [ 5.,  5.,  5.,  ...,  5.,  5.,  5.],\n",
       "        [10., 10., 10.,  ..., 10., 10., 10.]], requires_grad=True)"
      ]
     },
     "execution_count": 10,
     "metadata": {},
     "output_type": "execute_result"
    }
   ],
   "source": [
    "snn.d_ih.weight"
   ]
  },
  {
   "cell_type": "code",
   "execution_count": 11,
   "metadata": {},
   "outputs": [],
   "source": [
    "all_spikes = np.array(snn.all_delayed_spikes.expand(snn.win,3,4,snn.num_input).permute(0,3,1,2))\n",
    "all_counters = np.array(snn.all_counters.detach().expand(snn.win,3,4,snn.num_input).permute(0,3,1,2))\n"
   ]
  },
  {
   "cell_type": "code",
   "execution_count": 12,
   "metadata": {},
   "outputs": [
    {
     "data": {
      "text/plain": [
       "(50, 700, 3, 4)"
      ]
     },
     "execution_count": 12,
     "metadata": {},
     "output_type": "execute_result"
    }
   ],
   "source": [
    "all_spikes.shape"
   ]
  },
  {
   "cell_type": "code",
   "execution_count": 13,
   "metadata": {},
   "outputs": [
    {
     "data": {
      "text/plain": [
       "<matplotlib.image.AxesImage at 0x1a214281d0>"
      ]
     },
     "execution_count": 13,
     "metadata": {},
     "output_type": "execute_result"
    },
    {
     "data": {
      "image/png": "[encoded data removed]",
      "text/plain": [
       "<Figure size 432x288 with 1 Axes>"
      ]
     },
     "metadata": {},
     "output_type": "display_data"
    }
   ],
   "source": [
    "plt.imshow(im)"
   ]
  },
  {
   "cell_type": "code",
   "execution_count": 14,
   "metadata": {
    "scrolled": true
   },
   "outputs": [
    {
     "data": {
      "image/png": "[encoded data removed]",
      "text/plain": [
       "<Figure size 2000x1000 with 4 Axes>"
      ]
     },
     "metadata": {},
     "output_type": "display_data"
    }
   ],
   "source": [
    "import matplotlib.pyplot as plt\n",
    "fig = plt.figure(figsize=(10,5), dpi=200)\n",
    "for k in range(4):\n",
    "    plt.subplot(4,1,k+1)\n",
    "    plt.imshow(all_spikes[:,:,:,k])\n",
    "    plt.ylabel('d={}'.format(delays[k][0]))"
   ]
  },
  {
   "cell_type": "code",
   "execution_count": 15,
   "metadata": {},
   "outputs": [
    {
     "data": {
      "text/plain": [
       "'tensor(2.)'"
      ]
     },
     "execution_count": 15,
     "metadata": {},
     "output_type": "execute_result"
    }
   ],
   "source": [
    "str(delays[1][0])"
   ]
  },
  {
   "cell_type": "code",
   "execution_count": null,
   "metadata": {},
   "outputs": [],
   "source": []
  },
  {
   "cell_type": "code",
   "execution_count": 16,
   "metadata": {},
   "outputs": [
    {
     "name": "stderr",
     "output_type": "stream",
     "text": [
      "Clipping input data to the valid range for imshow with RGB data ([0..1] for floats or [0..255] for integers).\n",
      "Clipping input data to the valid range for imshow with RGB data ([0..1] for floats or [0..255] for integers).\n",
      "Clipping input data to the valid range for imshow with RGB data ([0..1] for floats or [0..255] for integers).\n",
      "Clipping input data to the valid range for imshow with RGB data ([0..1] for floats or [0..255] for integers).\n"
     ]
    },
    {
     "data": {
      "image/png": "[encoded data removed]",
      "text/plain": [
       "<Figure size 432x288 with 1 Axes>"
      ]
     },
     "metadata": {},
     "output_type": "display_data"
    },
    {
     "data": {
      "image/png": "[encoded data removed]",
      "text/plain": [
       "<Figure size 432x288 with 1 Axes>"
      ]
     },
     "metadata": {},
     "output_type": "display_data"
    },
    {
     "data": {
      "image/png": "[encoded data removed]",
      "text/plain": [
       "<Figure size 432x288 with 1 Axes>"
      ]
     },
     "metadata": {},
     "output_type": "display_data"
    },
    {
     "data": {
      "image/png": "[encoded data removed]",
      "text/plain": [
       "<Figure size 432x288 with 1 Axes>"
      ]
     },
     "metadata": {},
     "output_type": "display_data"
    }
   ],
   "source": [
    "import matplotlib.pyplot as plt\n",
    "for n in range(4):\n",
    "    plt.figure()\n",
    "    plt.imshow(all_counters[:,:,:,n])"
   ]
  },
  {
   "cell_type": "code",
   "execution_count": 17,
   "metadata": {},
   "outputs": [
    {
     "data": {
      "text/plain": [
       "(50, 700, 3, 4)"
      ]
     },
     "execution_count": 17,
     "metadata": {},
     "output_type": "execute_result"
    }
   ],
   "source": [
    "all_counters.shape"
   ]
  },
  {
   "cell_type": "code",
   "execution_count": null,
   "metadata": {},
   "outputs": [],
   "source": []
  },
  {
   "cell_type": "code",
   "execution_count": 18,
   "metadata": {},
   "outputs": [
    {
     "data": {
      "text/plain": [
       "(25, 100, 3)"
      ]
     },
     "execution_count": 18,
     "metadata": {},
     "output_type": "execute_result"
    }
   ],
   "source": [
    "im.shape"
   ]
  },
  {
   "cell_type": "code",
   "execution_count": 19,
   "metadata": {},
   "outputs": [
    {
     "data": {
      "text/plain": [
       "array([1., 1., 1., 0., 0., 1., 1., 1., 1., 1., 1., 1., 1., 1., 1., 0., 0.,\n",
       "       0., 0., 0., 0., 0., 0., 1., 1., 1., 0., 0., 1., 1., 0., 0., 1., 1.,\n",
       "       1., 0., 0., 1., 1., 1., 0., 0., 1., 1., 0., 0., 0., 0., 0., 0., 0.,\n",
       "       0., 1., 1., 1., 1., 0., 0., 0., 0., 0., 0., 0., 0., 1., 1., 1., 1.,\n",
       "       1., 1., 1., 1., 1., 0., 1., 1., 0., 0., 1., 1., 1., 1., 0., 0., 1.,\n",
       "       1., 1., 0., 1., 1., 0., 0., 1., 1., 1., 1., 0., 0., 1., 1.])"
      ]
     },
     "execution_count": 19,
     "metadata": {},
     "output_type": "execute_result"
    }
   ],
   "source": [
    "im[10,:,0]"
   ]
  },
  {
   "cell_type": "code",
   "execution_count": 20,
   "metadata": {},
   "outputs": [
    {
     "name": "stdout",
     "output_type": "stream",
     "text": [
      "[0. 0. 0. 0. 0. 0. 0. 0. 0. 0. 0. 0. 0. 0. 0. 0. 0. 0. 0. 0. 0. 0. 0. 0.\n",
      " 0. 0. 0. 0. 0. 0. 0. 0. 0. 0. 0. 0. 0. 0. 0. 0. 0. 0. 0. 0. 0. 0. 0. 0.\n",
      " 0. 0. 0. 0. 0. 0. 0. 0. 0. 0. 0. 0. 0. 0. 0. 0. 0. 0. 0. 0. 0. 0. 0. 0.\n",
      " 0. 0. 0. 0. 0. 0. 0. 1. 0. 0. 0. 0. 0. 0. 0. 0. 0. 0. 0. 0. 0. 0. 0. 0.\n",
      " 0. 0. 0. 0. 0. 0. 0. 0. 0. 0. 0. 0. 0. 0. 0. 0. 0. 0. 0. 0. 0. 0. 0. 0.\n",
      " 0. 0. 0. 0. 0. 0. 0. 0. 0. 0. 0. 0. 0. 0. 0. 0. 0. 0. 0. 0. 0. 0. 0. 0.\n",
      " 0. 0. 0. 0. 0. 0. 0. 0. 0. 0. 0. 0. 0. 0. 0. 0. 0. 0. 0. 0. 0. 0. 0. 0.\n",
      " 0. 0. 0. 0. 0. 1. 0. 0. 0. 0. 0. 0. 0. 0. 0. 0. 0. 0. 0. 0. 0. 0. 0. 0.\n",
      " 0. 0. 0. 0. 0. 0. 0. 0. 0. 0. 0. 0. 0. 0. 0. 0. 0. 0. 0. 0. 0. 0. 0. 0.\n",
      " 0. 0. 0. 0. 1. 0. 0. 0. 0. 0. 1. 0. 0. 0. 0. 0. 0. 0. 0. 0. 0. 0. 0. 0.\n",
      " 0. 0. 0. 0. 0. 0. 0. 0. 0. 0. 0. 1. 0. 0. 0. 0. 0. 0. 0. 0. 0. 0. 0. 0.\n",
      " 0. 0. 0. 0. 0. 0. 1. 0. 0. 0. 0. 0. 0. 0. 0. 1. 0. 0. 0. 1. 0. 0. 0. 0.\n",
      " 0. 0. 0. 0. 1. 0. 0. 1. 0. 1. 0. 0. 1. 0. 0. 1. 0. 0. 0. 0. 1. 1. 0. 0.\n",
      " 0. 0. 1. 0. 0. 0. 0. 0. 0. 0. 0. 0. 0. 0. 0. 1. 0. 0. 1. 0. 0. 1. 1. 0.\n",
      " 1. 0. 0. 0. 0. 0. 1. 0. 0. 0. 0. 0. 0. 0. 0. 0. 0. 0. 0. 1. 0. 0. 1. 0.\n",
      " 0. 1. 0. 0. 0. 0. 1. 0. 0. 0. 0. 0. 0. 1. 0. 0. 0. 1. 0. 0. 1. 1. 0. 0.\n",
      " 0. 0. 0. 0. 0. 1. 0. 1. 0. 1. 0. 0. 1. 0. 0. 0. 1. 1. 0. 0. 1. 0. 1. 0.\n",
      " 0. 0. 1. 0. 0. 0. 0. 1. 1. 0. 0. 0. 1. 1. 0. 0. 0. 0. 1. 0. 1. 0. 0. 0.\n",
      " 1. 1. 0. 0. 1. 0. 0. 0. 0. 0. 0. 0. 1. 0. 0. 0. 0. 0. 0. 0. 0. 0. 0. 0.\n",
      " 0. 0. 1. 0. 0. 0. 0. 0. 0. 0. 0. 0. 0. 0. 0. 0. 0. 0. 1. 0. 0. 0. 0. 0.\n",
      " 0. 0. 0. 0. 0. 0. 0. 0. 0. 0. 0. 0. 0. 0. 0. 0. 0. 0. 0. 0. 0. 0. 0. 0.\n",
      " 0. 0. 0. 0. 0. 0. 0. 0. 0. 0. 0. 0. 0. 0. 0. 0. 0. 0. 0. 0. 0. 0. 0. 0.\n",
      " 0. 0. 0. 0. 0. 0. 0. 0. 0. 0. 0. 0. 0. 0. 0. 0. 0. 0. 0. 0. 0. 0. 0. 0.\n",
      " 0. 0. 0. 0. 0. 0. 0. 0. 0. 0. 0. 0. 0. 0. 0. 0. 0. 0. 0. 0. 0. 0. 0. 0.\n",
      " 0. 0. 0. 0. 0. 0. 0. 1. 0. 0. 0. 0. 0. 0. 0. 0. 0. 0. 0. 0. 0. 0. 0. 0.\n",
      " 0. 0. 0. 0. 0. 0. 0. 1. 0. 0. 0. 0. 0. 0. 0. 0. 0. 0. 1. 0. 1. 1. 0. 0.\n",
      " 0. 0. 0. 0. 0. 1. 0. 0. 0. 1. 1. 0. 1. 1. 1. 1. 1. 1. 1. 1. 0. 1. 1. 0.\n",
      " 1. 1. 1. 1. 1. 1. 1. 1. 1. 1. 1. 1. 1. 1. 1. 1. 1. 0. 1. 1. 1. 1. 1. 1.\n",
      " 1. 1. 0. 0. 1. 0. 0. 0. 1. 0. 1. 0. 0. 0. 0. 0. 0. 0. 0. 0. 0. 0. 0. 0.\n",
      " 0. 0. 0. 0.]\n",
      "[-16. -16.  -5. -16. -16. -16.  -7. -16. -16. -16. -16. -16. -16. -16.\n",
      " -16. -16. -16.  -7. -16. -16. -16. -16. -16. -16. -16. -16. -16. -16.\n",
      " -16. -16.  -4. -16. -16. -16. -16.  -7. -16. -16. -16. -16.  -2. -16.\n",
      "  -2. -16. -16. -16.   0.  -2. -16. -16. -16. -16. -16. -16. -16. -16.\n",
      " -16.  -3. -16. -16.   0. -16. -16. -16. -16.  -2. -16. -16. -16. -16.\n",
      " -16.  -3. -16. -16. -16. -16. -16. -16. -16.  -1. -16. -16. -16. -16.\n",
      " -16. -16. -16.  -7. -16. -16. -16. -16. -16. -16. -16. -16. -16. -16.\n",
      " -16. -16. -16.  -4. -16.  -5. -16. -16. -16. -16. -16. -16. -16.   1.\n",
      " -16. -16. -16. -16. -16. -16. -16. -16. -16. -16.  -3. -16. -16. -16.\n",
      " -16. -16. -16. -16. -16. -16. -16.   1. -16. -16. -16. -16. -16. -16.\n",
      " -16. -16. -16. -16.  -3. -16.  -3. -16. -16. -16. -16. -16. -16.  -5.\n",
      " -16. -16. -16. -16. -16. -16. -16. -16. -16. -16. -16. -16. -16. -16.\n",
      " -16. -16.  -3. -16.  -7.  -1. -16. -16.  -5. -16. -16. -16. -16. -16.\n",
      " -16. -16. -16. -16. -16. -16.   1. -16. -16. -16. -16.  -2. -16. -16.\n",
      " -16. -16.   0. -16.  -3. -16. -16.  -2. -16. -16. -16. -16. -16.  -2.\n",
      " -16. -16. -16. -16. -16. -16. -16. -16.   1. -16.  -1. -16. -16. -16.\n",
      "  -3. -16.  -1. -16.   1. -16.   0.   2. -16. -16. -16. -16. -16. -16.\n",
      "  -3.  -5. -16. -16.   1. -16.  -2. -16. -16. -16. -16. -16. -16.  -1.\n",
      " -16.  -3. -16. -16.  -3. -16. -16.  -4. -16.   1. -16. -16.   0. -16.\n",
      "   2.   2.   2. -16.  -1. -16.   0. -16. -16.   2. -16.  -5. -16.  -1.\n",
      "  -5. -16.  -4.  -1. -16.  -4.   2. -16.   2. -16. -16. -16.  -1.   2.\n",
      " -16.  -1. -16.  -1.  -2.   2.  -1.  -3.   1.   2.   1.  -2.   1.   2.\n",
      "  -1.  -1.   2.   2.   1. -16.   2.   2.   1.   2. -16.  -3.  -2.  -2.\n",
      "   2.   2. -16.  -2.   1.   2.   1.  -2.   2. -16. -16.  -1.  -1.  -4.\n",
      "  -1. -16.  -2.   0.   1.  -3.  -1.   1.  -3.   1.   0. -16.   0.  -2.\n",
      "   1.   0.   2.   1.   1.  -1.   1.   0.  -1.   1.   0.   2.   0.   1.\n",
      "   1.   0.  -1.  -2.   0.   0.   0.   1.   1.  -1.   0.   1.   1.  -1.\n",
      "  -3.   0.  -1.   2.   0.   1.   1.   1.   1.   0.   1.   2.  -2.   2.\n",
      "   2.   2.   1.   1.   2.   0.   2.   1.   2.   2.   1.   1.  -1.   0.\n",
      "  -1.   1.   1.   0.   2.   0.   1.   1.   1.   2.   2.   0.   1.   1.\n",
      "   2.   2.   1.   1.   1.   1.   2.   1.   2.   1.   0.   1.   2.   2.\n",
      "   1.   1.   2.  -2.   1.   1.   0.   1.   1.   1.   2.   1.   0.   1.\n",
      "   0.   0.   0.   0.   1.   1.   1.   1.   1.   1.   2.   1.   1.   1.\n",
      "   1.   1.   1.   1.   0.   0.   0.   0.   0.   1.   1.   0.   2.   1.\n",
      "   2.   0.   1.   0.   1.   0.   1.   0.   0.   0.   0.   0.   0.   2.\n",
      "   0.   1.   1.   0.   0.   1.   0.   1.   0.   0.   0.   0.   0.   0.\n",
      "   1.   0.   0.   0.   0.   0.   0.   1.   0.   0.   0.   0.   1.   0.\n",
      "   1.   0.   0.   0.   0.   0.   0.   0.   1.   0.   0.   0.   2.   1.\n",
      "   0.   0.   0.   0.   0.   0.   1.   1.   0.   0.   0.   0.   0.   0.\n",
      "   0.   1.   0.   1.   0.   0.   0.   0.   0.   0.   1.   0.   0.   0.\n",
      "   0.   0.   0.   0.   0.   1.   0.   0.   0.   0.   0.   0.   0.   0.\n",
      "   0.   0.   0.   0.   0.   0.   1.   0.   0.   2.   1.   2.   0.   0.\n",
      "   0.   0.   0.   0.   1.   1.   0.   0.   0.   0.   0.   0.   0.   0.\n",
      "   0.   0.   0.   0.   0.   2.   0.   0.   0.   0.   0.   0.   0.   0.\n",
      "   0.   0.   2.   0.   2.   2.   0.   0.   0.   0.   0.   0.   0.   2.\n",
      "   0.   0.   0.   2.   2.   0.   2.   2.   2.   2.   2.   2.   2.   2.\n",
      "   0.  -1.   2.   0.   2.   2.   2.   2.   2.   2.   2.   2.   2.   2.\n",
      "   2.   2.   2.   2.   2.   2.   2.   0.   2.   2.  -1.   2.  -1.  -1.\n",
      "  -1.  -1.   1.   0.  -1.   0.  -4.  -4.  -1.  -4.  -1.  -4.  -4.  -4.\n",
      "   0.  -4.  -4.   0.  -4.  -4.  -4.  -6.  -6.  -7.  -7.   2.  -7.  -6.]\n"
     ]
    }
   ],
   "source": [
    "n=1\n",
    "print(all_spikes[10,:,0,1])\n",
    "print(all_counters[10,:,0,1])"
   ]
  },
  {
   "cell_type": "code",
   "execution_count": null,
   "metadata": {},
   "outputs": [],
   "source": []
  }
 ],
 "metadata": {
  "kernelspec": {
   "display_name": "Python 3",
   "language": "python",
   "name": "python3"
  },
  "language_info": {
   "codemirror_mode": {
    "name": "ipython",
    "version": 3
   },
   "file_extension": ".py",
   "mimetype": "text/x-python",
   "name": "python",
   "nbconvert_exporter": "python",
   "pygments_lexer": "ipython3",
   "version": "3.6.5"
  }
 },
 "nbformat": 4,
 "nbformat_minor": 5
}
