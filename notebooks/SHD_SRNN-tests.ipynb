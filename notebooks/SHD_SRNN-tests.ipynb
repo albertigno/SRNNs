{
 "cells": [
  {
   "cell_type": "code",
   "execution_count": 2,
   "id": "blind-ancient",
   "metadata": {},
   "outputs": [
    {
     "name": "stdout",
     "output_type": "stream",
     "text": [
      "Running on: cuda:0\n"
     ]
    }
   ],
   "source": [
    "\"\"\"\n",
    "@author: albertigno\n",
    "\n",
    "\"\"\"\n",
    "\n",
    "from MyDataset import *\n",
    "import torch, time, os\n",
    "import torch.nn as nn\n",
    "import torch.nn.functional as F\n",
    "#import networkx as nx\n",
    "import matplotlib.pyplot as plt\n",
    "#from matplotlib.gridspec import GridSpec\n",
    "\n",
    "device = torch.device(\"cuda:0\" if torch.cuda.is_available() else \"cpu\")\n",
    "print ('Running on: {}'.format(device))"
   ]
  },
  {
   "cell_type": "code",
   "execution_count": 3,
   "id": "primary-great",
   "metadata": {},
   "outputs": [],
   "source": [
    "thresh = 0.3\n",
    "batch_size = 256 # default 256\n",
    "learning_rate = 1e-4 # default 1e-4\n",
    "time_window = 50 # shd 50, nmnist 25-30\n",
    "dataset_path = r'./../../datasets'"
   ]
  },
  {
   "cell_type": "code",
   "execution_count": 4,
   "id": "given-reviewer",
   "metadata": {},
   "outputs": [
    {
     "name": "stdout",
     "output_type": "stream",
     "text": [
      "loading test set...\n",
      "num sample: 2264\n",
      "torch.Size([2264, 50, 700]) torch.Size([2264, 20])\n",
      "loading training set...\n",
      "num sample: 8156\n",
      "torch.Size([8156, 50, 700]) torch.Size([8156, 20])\n",
      "loading data with pytorch\n"
     ]
    }
   ],
   "source": [
    "train_path = dataset_path+'/shd_digits/shd_train.h5'\n",
    "test_path = dataset_path+'/shd_digits/shd_test.h5'\n",
    "# load datasets\n",
    "print(\"loading test set...\")\n",
    "test_dataset = MyDataset(test_path, 'hd_digits', time_window, device)\n",
    "print(\"loading training set...\")\n",
    "train_dataset = MyDataset(train_path, 'hd_digits', time_window, device)\n",
    "print(\"loading data with pytorch\")\n",
    "test_loader = torch.utils.data.DataLoader(dataset=test_dataset,\n",
    "                                          batch_size=batch_size,\n",
    "                                          shuffle=False, drop_last=True)\n",
    "\n",
    "train_loader = torch.utils.data.DataLoader(dataset=train_dataset,\n",
    "                                           batch_size=batch_size,\n",
    "                                           shuffle=True, drop_last=True)"
   ]
  },
  {
   "cell_type": "code",
   "execution_count": 24,
   "id": "generic-cement",
   "metadata": {},
   "outputs": [
    {
     "name": "stdout",
     "output_type": "stream",
     "text": [
      "The autoreload extension is already loaded. To reload it, use:\n",
      "  %reload_ext autoreload\n"
     ]
    },
    {
     "data": {
      "text/plain": [
       "RSNN(\n",
       "  (fc_ih): Linear(in_features=700, out_features=256, bias=False)\n",
       "  (fc_hh): Linear(in_features=256, out_features=256, bias=False)\n",
       "  (fc_ho): Linear(in_features=256, out_features=20, bias=False)\n",
       ")"
      ]
     },
     "execution_count": 24,
     "metadata": {},
     "output_type": "execute_result"
    }
   ],
   "source": [
    "from snn_models import *\n",
    "%load_ext autoreload\n",
    "%autoreload 1\n",
    "%aimport snn_models\n",
    "\n",
    "num_hidden = 256\n",
    "#tau_m = 'adp'\n",
    "tau_m = 0.8305\n",
    "#snn = RSNN_delay(d='shd', num_hidden=128, thresh=0.3, decay=0.3, batch_size=batch_size, win=50, device=device)\n",
    "snn = RSNN('shd', num_hidden=num_hidden, thresh=0.3, tau_m=tau_m, vreset=0.0, batch_size=batch_size, win=time_window, device=device)\n",
    "snn.to(device)"
   ]
  },
  {
   "cell_type": "code",
   "execution_count": 25,
   "id": "junior-favorite",
   "metadata": {},
   "outputs": [
    {
     "name": "stdout",
     "output_type": "stream",
     "text": [
      "shd_rnn_256_0.8305.t7\n"
     ]
    }
   ],
   "source": [
    "# training configuration\n",
    "\n",
    "num_epochs = 100\n",
    "modelname = 'shd_rnn_{}_{}.t7'.format(snn.num_hidden, tau_m)\n",
    "num_samples = train_dataset.images.size()[0]\n",
    "\n",
    "# super pythonic way to extract the parameters that will have 'normal' learning rate\n",
    "base_params = [getattr(snn,name.split('.')[0]).weight for name, _ in snn.state_dict().items() if name[0]=='f']\n",
    "\n",
    "# setting different learning rate for tau_m, if neeeded\n",
    "if tau_m=='adp':\n",
    "    print('tau_m_h ')\n",
    "    optimizer = torch.optim.Adam([\n",
    "        {'params': base_params},\n",
    "        {'params': snn.tau_m_h, 'lr': learning_rate * 10.0},\n",
    "        {'params': snn.tau_m_o, 'lr': learning_rate * 10.0}],\n",
    "        lr=learning_rate)\n",
    "else:    \n",
    "    optimizer = torch.optim.Adam([\n",
    "        {'params': base_params}],\n",
    "        lr=learning_rate)\n",
    "    \n",
    "act_fun = ActFun.apply\n",
    "print(modelname)"
   ]
  },
  {
   "cell_type": "code",
   "execution_count": 60,
   "id": "other-vinyl",
   "metadata": {},
   "outputs": [],
   "source": [
    "zero_mask = torch.zeros((num_hidden,num_hidden), device=snn.device)\n",
    "inh_strength = 1e-3\n",
    "wta_mask = -inh_strength*torch.ones((num_hidden,num_hidden), device=snn.device) + inh_strength*torch.eye(num_hidden, device=snn.device)\n",
    "\n",
    "snn.mask_weights(snn.fc_hh, wta_mask, override = True, trainable=False )\n"
   ]
  },
  {
   "cell_type": "code",
   "execution_count": 61,
   "id": "radio-lafayette",
   "metadata": {},
   "outputs": [
    {
     "data": {
      "text/plain": [
       "tensor([[ 0.0000, -0.0010, -0.0010,  ..., -0.0010, -0.0010, -0.0010],\n",
       "        [-0.0010,  0.0000, -0.0010,  ..., -0.0010, -0.0010, -0.0010],\n",
       "        [-0.0010, -0.0010,  0.0000,  ..., -0.0010, -0.0010, -0.0010],\n",
       "        ...,\n",
       "        [-0.0010, -0.0010, -0.0010,  ...,  0.0000, -0.0010, -0.0010],\n",
       "        [-0.0010, -0.0010, -0.0010,  ..., -0.0010,  0.0000, -0.0010],\n",
       "        [-0.0010, -0.0010, -0.0010,  ..., -0.0010, -0.0010,  0.0000]],\n",
       "       device='cuda:0')"
      ]
     },
     "execution_count": 61,
     "metadata": {},
     "output_type": "execute_result"
    }
   ],
   "source": [
    "wta_mask"
   ]
  },
  {
   "cell_type": "code",
   "execution_count": 62,
   "id": "premium-outside",
   "metadata": {},
   "outputs": [
    {
     "data": {
      "image/png": "[encoded data removed]",
      "text/plain": [
       "<Figure size 432x288 with 1 Axes>"
      ]
     },
     "metadata": {
      "needs_background": "light"
     },
     "output_type": "display_data"
    },
    {
     "data": {
      "image/png": "[encoded data removed]",
      "text/plain": [
       "<Figure size 720x720 with 1 Axes>"
      ]
     },
     "metadata": {
      "needs_background": "light"
     },
     "output_type": "display_data"
    }
   ],
   "source": [
    "w = snn.plot_weights('hh', 'histogram')\n",
    "w = snn.plot_weights('hh', 'matrix')"
   ]
  },
  {
   "cell_type": "code",
   "execution_count": 26,
   "id": "ultimate-graham",
   "metadata": {
    "scrolled": false
   },
   "outputs": [
    {
     "name": "stdout",
     "output_type": "stream",
     "text": [
      "Epoch [1/100]\n",
      "Step [10/31], Loss: 0.49989\n",
      "Step [20/31], Loss: 0.47972\n",
      "Step [30/31], Loss: 0.47193\n",
      "Time elasped: 2.220447063446045\n",
      "Epoch [2/100]\n",
      "Step [10/31], Loss: 0.46320\n",
      "Step [20/31], Loss: 0.45443\n",
      "Step [30/31], Loss: 0.44902\n",
      "Time elasped: 2.2244317531585693\n",
      "Epoch [3/100]\n",
      "Step [10/31], Loss: 0.44179\n",
      "Step [20/31], Loss: 0.43603\n",
      "Step [30/31], Loss: 0.43208\n",
      "Time elasped: 2.206871509552002\n",
      "Epoch [4/100]\n",
      "Step [10/31], Loss: 0.42686\n",
      "Step [20/31], Loss: 0.42297\n",
      "Step [30/31], Loss: 0.41558\n",
      "Time elasped: 2.19411301612854\n",
      "Epoch [5/100]\n",
      "Step [10/31], Loss: 0.41137\n",
      "Step [20/31], Loss: 0.40813\n",
      "Step [30/31], Loss: 0.39924\n",
      "Time elasped: 2.221869707107544\n",
      "Test Accuracy of the model on the test samples: 36.914\n",
      "Epoch [6/100]\n",
      "Step [10/31], Loss: 0.38900\n",
      "Step [20/31], Loss: 0.38241\n",
      "Step [30/31], Loss: 0.37305\n",
      "Time elasped: 2.242300510406494\n",
      "Epoch [7/100]\n",
      "Step [10/31], Loss: 0.36763\n",
      "Step [20/31], Loss: 0.36902\n",
      "Step [30/31], Loss: 0.35938\n",
      "Time elasped: 2.2088708877563477\n",
      "Epoch [8/100]\n",
      "Step [10/31], Loss: 0.35535\n",
      "Step [20/31], Loss: 0.35037\n",
      "Step [30/31], Loss: 0.34853\n",
      "Time elasped: 2.229301929473877\n",
      "Epoch [9/100]\n",
      "Step [10/31], Loss: 0.34455\n",
      "Step [20/31], Loss: 0.33639\n",
      "Step [30/31], Loss: 0.33721\n",
      "Time elasped: 2.2024354934692383\n",
      "Epoch [10/100]\n",
      "Step [10/31], Loss: 0.33236\n",
      "Step [20/31], Loss: 0.33741\n",
      "Step [30/31], Loss: 0.32837\n",
      "Time elasped: 2.216442823410034\n",
      "Test Accuracy of the model on the test samples: 50.195\n",
      "Epoch [11/100]\n",
      "Step [10/31], Loss: 0.32089\n",
      "Step [20/31], Loss: 0.32248\n",
      "Step [30/31], Loss: 0.32131\n",
      "Time elasped: 2.20261287689209\n",
      "Epoch [12/100]\n",
      "Step [10/31], Loss: 0.31831\n",
      "Step [20/31], Loss: 0.31221\n",
      "Step [30/31], Loss: 0.30957\n",
      "Time elasped: 2.201404571533203\n",
      "Epoch [13/100]\n",
      "Step [10/31], Loss: 0.30421\n",
      "Step [20/31], Loss: 0.30857\n",
      "Step [30/31], Loss: 0.30344\n",
      "Time elasped: 2.2287280559539795\n",
      "Epoch [14/100]\n",
      "Step [10/31], Loss: 0.30241\n",
      "Step [20/31], Loss: 0.29885\n",
      "Step [30/31], Loss: 0.29608\n",
      "Time elasped: 2.259103536605835\n",
      "Epoch [15/100]\n",
      "Step [10/31], Loss: 0.29043\n",
      "Step [20/31], Loss: 0.29876\n",
      "Step [30/31], Loss: 0.29540\n",
      "Time elasped: 2.2324578762054443\n",
      "Test Accuracy of the model on the test samples: 56.055\n",
      "Epoch [16/100]\n",
      "Step [10/31], Loss: 0.29015\n",
      "Step [20/31], Loss: 0.29474\n",
      "Step [30/31], Loss: 0.28412\n",
      "Time elasped: 2.2350194454193115\n",
      "Epoch [17/100]\n",
      "Step [10/31], Loss: 0.28710\n",
      "Step [20/31], Loss: 0.28506\n",
      "Step [30/31], Loss: 0.27770\n",
      "Time elasped: 2.262141704559326\n",
      "Epoch [18/100]\n",
      "Step [10/31], Loss: 0.27866\n",
      "Step [20/31], Loss: 0.27270\n",
      "Step [30/31], Loss: 0.27140\n",
      "Time elasped: 2.224924325942993\n",
      "Epoch [19/100]\n",
      "Step [10/31], Loss: 0.26966\n",
      "Step [20/31], Loss: 0.26753\n",
      "Step [30/31], Loss: 0.26991\n",
      "Time elasped: 2.2185165882110596\n",
      "Epoch [20/100]\n",
      "Step [10/31], Loss: 0.26848\n",
      "Step [20/31], Loss: 0.26982\n",
      "Step [30/31], Loss: 0.26268\n",
      "Time elasped: 2.203303813934326\n",
      "Test Accuracy of the model on the test samples: 57.471\n",
      "Epoch [21/100]\n",
      "Step [10/31], Loss: 0.26374\n",
      "Step [20/31], Loss: 0.26634\n",
      "Step [30/31], Loss: 0.26663\n",
      "Time elasped: 2.212798595428467\n",
      "Epoch [22/100]\n",
      "Step [10/31], Loss: 0.26267\n",
      "Step [20/31], Loss: 0.26087\n",
      "Step [30/31], Loss: 0.26159\n",
      "Time elasped: 2.2007784843444824\n",
      "Epoch [23/100]\n",
      "Step [10/31], Loss: 0.25962\n",
      "Step [20/31], Loss: 0.24835\n",
      "Step [30/31], Loss: 0.25612\n",
      "Time elasped: 2.212327718734741\n",
      "Epoch [24/100]\n",
      "Step [10/31], Loss: 0.25245\n",
      "Step [20/31], Loss: 0.25274\n",
      "Step [30/31], Loss: 0.24506\n",
      "Time elasped: 2.2161359786987305\n",
      "Epoch [25/100]\n",
      "Step [10/31], Loss: 0.25519\n",
      "Step [20/31], Loss: 0.27138\n",
      "Step [30/31], Loss: 0.25375\n",
      "Time elasped: 2.203063488006592\n",
      "Test Accuracy of the model on the test samples: 60.498\n",
      "Epoch [26/100]\n",
      "Step [10/31], Loss: 0.25328\n",
      "Step [20/31], Loss: 0.25080\n",
      "Step [30/31], Loss: 0.24217\n",
      "Time elasped: 2.21964693069458\n",
      "Epoch [27/100]\n",
      "Step [10/31], Loss: 0.24052\n",
      "Step [20/31], Loss: 0.23872\n",
      "Step [30/31], Loss: 0.24402\n",
      "Time elasped: 2.265045642852783\n",
      "Epoch [28/100]\n",
      "Step [10/31], Loss: 0.23487\n",
      "Step [20/31], Loss: 0.23502\n",
      "Step [30/31], Loss: 0.23452\n",
      "Time elasped: 2.246089458465576\n",
      "Epoch [29/100]\n",
      "Step [10/31], Loss: 0.23859\n",
      "Step [20/31], Loss: 0.23467\n",
      "Step [30/31], Loss: 0.22604\n",
      "Time elasped: 2.212689161300659\n",
      "Epoch [30/100]\n",
      "Step [10/31], Loss: 0.23386\n",
      "Step [20/31], Loss: 0.23963\n",
      "Step [30/31], Loss: 0.23258\n",
      "Time elasped: 2.184037685394287\n",
      "Test Accuracy of the model on the test samples: 60.889\n",
      "Epoch [31/100]\n",
      "Step [10/31], Loss: 0.22823\n",
      "Step [20/31], Loss: 0.22387\n",
      "Step [30/31], Loss: 0.23269\n",
      "Time elasped: 2.1776719093322754\n",
      "Epoch [32/100]\n",
      "Step [10/31], Loss: 0.21890\n",
      "Step [20/31], Loss: 0.22951\n",
      "Step [30/31], Loss: 0.22946\n",
      "Time elasped: 2.211669445037842\n",
      "Epoch [33/100]\n",
      "Step [10/31], Loss: 0.22489\n",
      "Step [20/31], Loss: 0.22272\n",
      "Step [30/31], Loss: 0.22033\n",
      "Time elasped: 2.2096593379974365\n",
      "Epoch [34/100]\n",
      "Step [10/31], Loss: 0.22056\n",
      "Step [20/31], Loss: 0.21461\n",
      "Step [30/31], Loss: 0.22226\n",
      "Time elasped: 2.1936676502227783\n",
      "Epoch [35/100]\n",
      "Step [10/31], Loss: 0.21333\n",
      "Step [20/31], Loss: 0.20949\n",
      "Step [30/31], Loss: 0.22018\n",
      "Time elasped: 2.1981959342956543\n",
      "Test Accuracy of the model on the test samples: 63.232\n",
      "Epoch [36/100]\n",
      "Step [10/31], Loss: 0.21407\n",
      "Step [20/31], Loss: 0.21053\n",
      "Step [30/31], Loss: 0.20980\n",
      "Time elasped: 2.2011947631835938\n",
      "Epoch [37/100]\n",
      "Step [10/31], Loss: 0.21098\n",
      "Step [20/31], Loss: 0.21196\n",
      "Step [30/31], Loss: 0.21565\n",
      "Time elasped: 2.2018837928771973\n",
      "Epoch [38/100]\n",
      "Step [10/31], Loss: 0.21670\n",
      "Step [20/31], Loss: 0.20857\n",
      "Step [30/31], Loss: 0.20716\n",
      "Time elasped: 2.2008678913116455\n",
      "Epoch [39/100]\n",
      "Step [10/31], Loss: 0.21892\n",
      "Step [20/31], Loss: 0.21787\n",
      "Step [30/31], Loss: 0.21139\n",
      "Time elasped: 2.2057275772094727\n",
      "Epoch [40/100]\n",
      "Step [10/31], Loss: 0.20698\n",
      "Step [20/31], Loss: 0.20639\n",
      "Step [30/31], Loss: 0.21383\n",
      "Time elasped: 2.2393181324005127\n",
      "Test Accuracy of the model on the test samples: 64.600\n",
      "Epoch [41/100]\n",
      "Step [10/31], Loss: 0.20398\n",
      "Step [20/31], Loss: 0.22225\n",
      "Step [30/31], Loss: 0.21110\n",
      "Time elasped: 2.210448980331421\n",
      "Epoch [42/100]\n",
      "Step [10/31], Loss: 0.20421\n",
      "Step [20/31], Loss: 0.19879\n",
      "Step [30/31], Loss: 0.20361\n",
      "Time elasped: 2.219524621963501\n",
      "Epoch [43/100]\n",
      "Step [10/31], Loss: 0.20502\n",
      "Step [20/31], Loss: 0.20361\n",
      "Step [30/31], Loss: 0.20195\n",
      "Time elasped: 2.193154811859131\n",
      "Epoch [44/100]\n",
      "Step [10/31], Loss: 0.19901\n",
      "Step [20/31], Loss: 0.19856\n",
      "Step [30/31], Loss: 0.20246\n",
      "Time elasped: 2.187518835067749\n",
      "Epoch [45/100]\n",
      "Step [10/31], Loss: 0.20099\n",
      "Step [20/31], Loss: 0.20398\n",
      "Step [30/31], Loss: 0.20063\n",
      "Time elasped: 2.202634811401367\n",
      "Test Accuracy of the model on the test samples: 65.967\n",
      "Epoch [46/100]\n",
      "Step [10/31], Loss: 0.19918\n",
      "Step [20/31], Loss: 0.19771\n",
      "Step [30/31], Loss: 0.19620\n",
      "Time elasped: 2.1934800148010254\n",
      "Epoch [47/100]\n",
      "Step [10/31], Loss: 0.19807\n",
      "Step [20/31], Loss: 0.19661\n",
      "Step [30/31], Loss: 0.19566\n",
      "Time elasped: 2.2677161693573\n",
      "Epoch [48/100]\n",
      "Step [10/31], Loss: 0.19880\n",
      "Step [20/31], Loss: 0.19357\n",
      "Step [30/31], Loss: 0.19411\n",
      "Time elasped: 2.3214151859283447\n",
      "Epoch [49/100]\n",
      "Step [10/31], Loss: 0.19080\n",
      "Step [20/31], Loss: 0.19916\n",
      "Step [30/31], Loss: 0.19685\n",
      "Time elasped: 2.278463363647461\n",
      "Epoch [50/100]\n",
      "Step [10/31], Loss: 0.18521\n",
      "Step [20/31], Loss: 0.19292\n",
      "Step [30/31], Loss: 0.19510\n",
      "Time elasped: 2.2699248790740967\n",
      "Test Accuracy of the model on the test samples: 63.232\n",
      "Epoch [51/100]\n",
      "Step [10/31], Loss: 0.19139\n",
      "Step [20/31], Loss: 0.19338\n",
      "Step [30/31], Loss: 0.19459\n",
      "Time elasped: 2.3029415607452393\n",
      "Epoch [52/100]\n",
      "Step [10/31], Loss: 0.18976\n",
      "Step [20/31], Loss: 0.19070\n",
      "Step [30/31], Loss: 0.19257\n",
      "Time elasped: 2.239938497543335\n",
      "Epoch [53/100]\n",
      "Step [10/31], Loss: 0.18619\n",
      "Step [20/31], Loss: 0.19265\n",
      "Step [30/31], Loss: 0.19581\n",
      "Time elasped: 2.213749408721924\n",
      "Epoch [54/100]\n",
      "Step [10/31], Loss: 0.19230\n",
      "Step [20/31], Loss: 0.18771\n",
      "Step [30/31], Loss: 0.18739\n",
      "Time elasped: 2.2710540294647217\n",
      "Epoch [55/100]\n",
      "Step [10/31], Loss: 0.19149\n",
      "Step [20/31], Loss: 0.19304\n",
      "Step [30/31], Loss: 0.18452\n",
      "Time elasped: 2.260249614715576\n",
      "Test Accuracy of the model on the test samples: 65.479\n",
      "Epoch [56/100]\n",
      "Step [10/31], Loss: 0.18507\n",
      "Step [20/31], Loss: 0.18433\n",
      "Step [30/31], Loss: 0.18276\n",
      "Time elasped: 2.234311580657959\n",
      "Epoch [57/100]\n",
      "Step [10/31], Loss: 0.18495\n",
      "Step [20/31], Loss: 0.18517\n",
      "Step [30/31], Loss: 0.18553\n",
      "Time elasped: 2.2407634258270264\n",
      "Epoch [58/100]\n",
      "Step [10/31], Loss: 0.18117\n",
      "Step [20/31], Loss: 0.18869\n",
      "Step [30/31], Loss: 0.18018\n",
      "Time elasped: 2.215451955795288\n",
      "Epoch [59/100]\n"
     ]
    },
    {
     "name": "stdout",
     "output_type": "stream",
     "text": [
      "Step [10/31], Loss: 0.18416\n",
      "Step [20/31], Loss: 0.18324\n",
      "Step [30/31], Loss: 0.18890\n",
      "Time elasped: 2.480451822280884\n",
      "Epoch [60/100]\n",
      "Step [10/31], Loss: 0.18564\n",
      "Step [20/31], Loss: 0.19129\n",
      "Step [30/31], Loss: 0.19420\n",
      "Time elasped: 2.3024346828460693\n",
      "Test Accuracy of the model on the test samples: 66.797\n",
      "Epoch [61/100]\n",
      "Step [10/31], Loss: 0.18603\n",
      "Step [20/31], Loss: 0.18178\n",
      "Step [30/31], Loss: 0.17934\n",
      "Time elasped: 2.3024260997772217\n",
      "Epoch [62/100]\n",
      "Step [10/31], Loss: 0.17462\n",
      "Step [20/31], Loss: 0.18397\n",
      "Step [30/31], Loss: 0.17941\n",
      "Time elasped: 2.315246105194092\n",
      "Epoch [63/100]\n",
      "Step [10/31], Loss: 0.17703\n",
      "Step [20/31], Loss: 0.17332\n",
      "Step [30/31], Loss: 0.18081\n",
      "Time elasped: 2.2181599140167236\n",
      "Epoch [64/100]\n",
      "Step [10/31], Loss: 0.17911\n",
      "Step [20/31], Loss: 0.17462\n",
      "Step [30/31], Loss: 0.17750\n",
      "Time elasped: 2.2583534717559814\n",
      "Epoch [65/100]\n",
      "Step [10/31], Loss: 0.18097\n",
      "Step [20/31], Loss: 0.17856\n",
      "Step [30/31], Loss: 0.17806\n",
      "Time elasped: 2.2937679290771484\n",
      "Test Accuracy of the model on the test samples: 66.699\n",
      "Epoch [66/100]\n",
      "Step [10/31], Loss: 0.17732\n",
      "Step [20/31], Loss: 0.18273\n",
      "Step [30/31], Loss: 0.17725\n",
      "Time elasped: 2.2497425079345703\n",
      "Epoch [67/100]\n",
      "Step [10/31], Loss: 0.17871\n",
      "Step [20/31], Loss: 0.17301\n",
      "Step [30/31], Loss: 0.17912\n",
      "Time elasped: 2.2530596256256104\n",
      "Epoch [68/100]\n",
      "Step [10/31], Loss: 0.17424\n",
      "Step [20/31], Loss: 0.17982\n",
      "Step [30/31], Loss: 0.17400\n",
      "Time elasped: 2.2936348915100098\n",
      "Epoch [69/100]\n",
      "Step [10/31], Loss: 0.17751\n",
      "Step [20/31], Loss: 0.17863\n",
      "Step [30/31], Loss: 0.17669\n",
      "Time elasped: 2.2264177799224854\n",
      "Epoch [70/100]\n",
      "Step [10/31], Loss: 0.17735\n",
      "Step [20/31], Loss: 0.17011\n",
      "Step [30/31], Loss: 0.17172\n",
      "Time elasped: 2.180798053741455\n",
      "Test Accuracy of the model on the test samples: 67.432\n",
      "Epoch [71/100]\n",
      "Step [10/31], Loss: 0.17074\n",
      "Step [20/31], Loss: 0.17195\n",
      "Step [30/31], Loss: 0.18066\n",
      "Time elasped: 2.227078676223755\n",
      "Epoch [72/100]\n",
      "Step [10/31], Loss: 0.16993\n",
      "Step [20/31], Loss: 0.17239\n",
      "Step [30/31], Loss: 0.17566\n",
      "Time elasped: 2.241699457168579\n",
      "Epoch [73/100]\n",
      "Step [10/31], Loss: 0.17200\n",
      "Step [20/31], Loss: 0.17176\n",
      "Step [30/31], Loss: 0.17209\n",
      "Time elasped: 2.2336511611938477\n",
      "Epoch [74/100]\n",
      "Step [10/31], Loss: 0.17175\n",
      "Step [20/31], Loss: 0.17226\n",
      "Step [30/31], Loss: 0.18017\n",
      "Time elasped: 2.2708892822265625\n",
      "Epoch [75/100]\n",
      "Step [10/31], Loss: 0.17275\n",
      "Step [20/31], Loss: 0.17484\n",
      "Step [30/31], Loss: 0.17611\n",
      "Time elasped: 2.353829860687256\n",
      "Test Accuracy of the model on the test samples: 69.043\n",
      "Epoch [76/100]\n",
      "Step [10/31], Loss: 0.17157\n",
      "Step [20/31], Loss: 0.17042\n",
      "Step [30/31], Loss: 0.17428\n",
      "Time elasped: 2.17061448097229\n",
      "Epoch [77/100]\n",
      "Step [10/31], Loss: 0.17338\n",
      "Step [20/31], Loss: 0.16402\n",
      "Step [30/31], Loss: 0.17228\n",
      "Time elasped: 2.201104164123535\n",
      "Epoch [78/100]\n",
      "Step [10/31], Loss: 0.17005\n",
      "Step [20/31], Loss: 0.17340\n",
      "Step [30/31], Loss: 0.17349\n",
      "Time elasped: 2.2607593536376953\n",
      "Epoch [79/100]\n",
      "Step [10/31], Loss: 0.17259\n",
      "Step [20/31], Loss: 0.17563\n",
      "Step [30/31], Loss: 0.17142\n",
      "Time elasped: 2.256626844406128\n",
      "Epoch [80/100]\n",
      "Step [10/31], Loss: 0.16886\n",
      "Step [20/31], Loss: 0.16707\n",
      "Step [30/31], Loss: 0.16784\n",
      "Time elasped: 2.279576063156128\n",
      "Test Accuracy of the model on the test samples: 66.992\n",
      "Epoch [81/100]\n",
      "Step [10/31], Loss: 0.17059\n",
      "Step [20/31], Loss: 0.16945\n",
      "Step [30/31], Loss: 0.16645\n",
      "Time elasped: 2.278116226196289\n",
      "Epoch [82/100]\n",
      "Step [10/31], Loss: 0.16801\n",
      "Step [20/31], Loss: 0.16370\n",
      "Step [30/31], Loss: 0.16794\n",
      "Time elasped: 2.2569432258605957\n",
      "Epoch [83/100]\n",
      "Step [10/31], Loss: 0.17343\n",
      "Step [20/31], Loss: 0.16603\n",
      "Step [30/31], Loss: 0.16883\n",
      "Time elasped: 2.276501178741455\n",
      "Epoch [84/100]\n",
      "Step [10/31], Loss: 0.17066\n",
      "Step [20/31], Loss: 0.17002\n",
      "Step [30/31], Loss: 0.16209\n",
      "Time elasped: 2.2474842071533203\n",
      "Epoch [85/100]\n",
      "Step [10/31], Loss: 0.16480\n",
      "Step [20/31], Loss: 0.17058\n",
      "Step [30/31], Loss: 0.16717\n",
      "Time elasped: 2.262685537338257\n",
      "Test Accuracy of the model on the test samples: 68.652\n",
      "Epoch [86/100]\n",
      "Step [10/31], Loss: 0.16940\n",
      "Step [20/31], Loss: 0.16282\n",
      "Step [30/31], Loss: 0.16577\n",
      "Time elasped: 2.291468858718872\n",
      "Epoch [87/100]\n",
      "Step [10/31], Loss: 0.16417\n",
      "Step [20/31], Loss: 0.16993\n",
      "Step [30/31], Loss: 0.15851\n",
      "Time elasped: 2.2706053256988525\n",
      "Epoch [88/100]\n",
      "Step [10/31], Loss: 0.16811\n",
      "Step [20/31], Loss: 0.16539\n",
      "Step [30/31], Loss: 0.16230\n",
      "Time elasped: 2.2673544883728027\n",
      "Epoch [89/100]\n",
      "Step [10/31], Loss: 0.16202\n",
      "Step [20/31], Loss: 0.16322\n",
      "Step [30/31], Loss: 0.16438\n",
      "Time elasped: 2.26139235496521\n",
      "Epoch [90/100]\n",
      "Step [10/31], Loss: 0.16089\n",
      "Step [20/31], Loss: 0.16627\n",
      "Step [30/31], Loss: 0.16694\n",
      "Time elasped: 2.2533328533172607\n",
      "Test Accuracy of the model on the test samples: 68.652\n",
      "Epoch [91/100]\n",
      "Step [10/31], Loss: 0.16899\n",
      "Step [20/31], Loss: 0.16051\n",
      "Step [30/31], Loss: 0.16831\n",
      "Time elasped: 2.2902324199676514\n",
      "Epoch [92/100]\n",
      "Step [10/31], Loss: 0.16943\n",
      "Step [20/31], Loss: 0.16996\n",
      "Step [30/31], Loss: 0.16441\n",
      "Time elasped: 2.2822697162628174\n",
      "Epoch [93/100]\n",
      "Step [10/31], Loss: 0.16296\n",
      "Step [20/31], Loss: 0.16620\n",
      "Step [30/31], Loss: 0.16137\n",
      "Time elasped: 2.2879061698913574\n",
      "Epoch [94/100]\n",
      "Step [10/31], Loss: 0.16124\n",
      "Step [20/31], Loss: 0.15842\n",
      "Step [30/31], Loss: 0.16736\n",
      "Time elasped: 2.261024236679077\n",
      "Epoch [95/100]\n",
      "Step [10/31], Loss: 0.16279\n",
      "Step [20/31], Loss: 0.16150\n",
      "Step [30/31], Loss: 0.16087\n",
      "Time elasped: 2.237180471420288\n",
      "Test Accuracy of the model on the test samples: 69.092\n",
      "Epoch [96/100]\n",
      "Step [10/31], Loss: 0.16480\n",
      "Step [20/31], Loss: 0.15756\n",
      "Step [30/31], Loss: 0.16063\n",
      "Time elasped: 2.2930634021759033\n",
      "Epoch [97/100]\n",
      "Step [10/31], Loss: 0.16073\n",
      "Step [20/31], Loss: 0.16472\n",
      "Step [30/31], Loss: 0.16453\n",
      "Time elasped: 2.320493698120117\n",
      "Epoch [98/100]\n",
      "Step [10/31], Loss: 0.16766\n",
      "Step [20/31], Loss: 0.16022\n",
      "Step [30/31], Loss: 0.16002\n",
      "Time elasped: 2.2927608489990234\n",
      "Epoch [99/100]\n",
      "Step [10/31], Loss: 0.16169\n",
      "Step [20/31], Loss: 0.16120\n",
      "Step [30/31], Loss: 0.16641\n",
      "Time elasped: 2.2890548706054688\n",
      "Epoch [100/100]\n",
      "Step [10/31], Loss: 0.16116\n",
      "Step [20/31], Loss: 0.16512\n",
      "Step [30/31], Loss: 0.16067\n",
      "Time elasped: 2.2087440490722656\n",
      "Test Accuracy of the model on the test samples: 67.969\n"
     ]
    }
   ],
   "source": [
    "# training loop\n",
    "taus_m = []\n",
    "for epoch in range(num_epochs):\n",
    "    print('Epoch [%d/%d]'  % (epoch + 1, num_epochs))\n",
    "    start_time = time.time()\n",
    "    snn.train_step(train_loader, optimizer=optimizer, criterion=nn.MSELoss(), num_samples = num_samples)\n",
    "    t = time.time() - start_time\n",
    "    print('Time elasped:', time.time() - start_time)\n",
    "    \n",
    "    # update learning rate\n",
    "    optimizer = snn.lr_scheduler(optimizer, lr_decay_epoch=1)\n",
    "    \n",
    "    # weight and decay recording\n",
    "    # taus_m.append((snn.tau_m_h.data.detach().clone(), snn.tau_m_o.data.detach().clone()))\n",
    "    \n",
    "    if (epoch+1) % 5 ==0:\n",
    "        snn.test(test_loader, criterion=nn.MSELoss())\n",
    "        snn.save_model(modelname)   \n",
    "                \n",
    "with open('training_log', 'a') as logs:\n",
    "    logs.write(\"\\nFinished training {} epochs for {}, batch_size {}, time_per_epoch {} s\".format(num_epochs, modelname, batch_size, t))       "
   ]
  },
  {
   "cell_type": "code",
   "execution_count": 19,
   "id": "civil-traveler",
   "metadata": {},
   "outputs": [
    {
     "data": {
      "image/png": "[encoded data removed]",
      "text/plain": [
       "<Figure size 432x288 with 1 Axes>"
      ]
     },
     "metadata": {
      "needs_background": "light"
     },
     "output_type": "display_data"
    }
   ],
   "source": [
    "w = snn.plot_weights('hh', 'histogram')"
   ]
  },
  {
   "cell_type": "code",
   "execution_count": 20,
   "id": "extraordinary-macedonia",
   "metadata": {},
   "outputs": [],
   "source": [
    "snn.save_to_numpy(modelname.split('.')[0])"
   ]
  },
  {
   "cell_type": "code",
   "execution_count": null,
   "id": "german-affairs",
   "metadata": {},
   "outputs": [],
   "source": [
    "snn.load()"
   ]
  },
  {
   "cell_type": "code",
   "execution_count": 8,
   "id": "fourth-scale",
   "metadata": {},
   "outputs": [
    {
     "data": {
      "text/plain": [
       "<AxesSubplot:ylabel='Count'>"
      ]
     },
     "execution_count": 8,
     "metadata": {},
     "output_type": "execute_result"
    },
    {
     "data": {
      "image/png": "[encoded data removed]",
      "text/plain": [
       "<Figure size 432x288 with 1 Axes>"
      ]
     },
     "metadata": {
      "needs_background": "light"
     },
     "output_type": "display_data"
    }
   ],
   "source": [
    "import seaborn as sns\n",
    "import pandas as pd\n",
    "\n",
    "initial_taus = taus_m[0][0].cpu().numpy()\n",
    "final_taus = taus_m[-1][0].cpu().numpy()\n",
    "\n",
    "df = pd.DataFrame(initial_taus, columns=['Epoch 1'])\n",
    "df['Epoch {}'.format(len(taus_m))] = final_taus\n",
    "\n",
    "sns.histplot(data=df, bins=100)"
   ]
  },
  {
   "cell_type": "code",
   "execution_count": 9,
   "id": "adolescent-cleveland",
   "metadata": {},
   "outputs": [
    {
     "data": {
      "image/png": "[encoded data removed]",
      "text/plain": [
       "<Figure size 432x288 with 1 Axes>"
      ]
     },
     "execution_count": 9,
     "metadata": {},
     "output_type": "execute_result"
    },
    {
     "data": {
      "image/png": "[encoded data removed]",
      "text/plain": [
       "<Figure size 432x288 with 1 Axes>"
      ]
     },
     "metadata": {
      "needs_background": "light"
     },
     "output_type": "display_data"
    }
   ],
   "source": [
    "snn.plot_loss()"
   ]
  },
  {
   "cell_type": "code",
   "execution_count": 10,
   "id": "contained-plumbing",
   "metadata": {},
   "outputs": [
    {
     "data": {
      "image/png": "[encoded data removed]",
      "text/plain": [
       "<Figure size 432x288 with 1 Axes>"
      ]
     },
     "metadata": {
      "needs_background": "light"
     },
     "output_type": "display_data"
    }
   ],
   "source": [
    "loss_fig = snn.plot_loss()"
   ]
  },
  {
   "cell_type": "code",
   "execution_count": 21,
   "id": "fabulous-bundle",
   "metadata": {},
   "outputs": [],
   "source": [
    "m = RSNN()"
   ]
  },
  {
   "cell_type": "code",
   "execution_count": 22,
   "id": "raising-interval",
   "metadata": {},
   "outputs": [],
   "source": [
    "m.load_model(modelname, 256, device)"
   ]
  },
  {
   "cell_type": "code",
   "execution_count": 23,
   "id": "colored-appraisal",
   "metadata": {
    "scrolled": true
   },
   "outputs": [
    {
     "data": {
      "image/png": "[encoded data removed]",
      "text/plain": [
       "<Figure size 432x288 with 1 Axes>"
      ]
     },
     "metadata": {
      "needs_background": "light"
     },
     "output_type": "display_data"
    }
   ],
   "source": [
    "loss_fig = m.plot_loss()"
   ]
  }
 ],
 "metadata": {
  "kernelspec": {
   "display_name": "Python 3",
   "language": "python",
   "name": "python3"
  },
  "language_info": {
   "codemirror_mode": {
    "name": "ipython",
    "version": 3
   },
   "file_extension": ".py",
   "mimetype": "text/x-python",
   "name": "python",
   "nbconvert_exporter": "python",
   "pygments_lexer": "ipython3",
   "version": "3.6.13"
  }
 },
 "nbformat": 4,
 "nbformat_minor": 5
}
