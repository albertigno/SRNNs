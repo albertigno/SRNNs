{
 "cells": [
  {
   "cell_type": "code",
   "execution_count": 1,
   "id": "owned-naples",
   "metadata": {},
   "outputs": [
    {
     "name": "stdout",
     "output_type": "stream",
     "text": [
      "Running on: cuda:0\n",
      "loading test set...\n",
      "num sample: 2264\n",
      "torch.Size([2264, 50, 700]) torch.Size([2264, 20])\n",
      "loading training set...\n",
      "num sample: 8156\n",
      "torch.Size([8156, 50, 700]) torch.Size([8156, 20])\n",
      "loading data with pytorch\n"
     ]
    }
   ],
   "source": [
    "\"\"\"\n",
    "@author: albertigno\n",
    "\n",
    "\"\"\"\n",
    "\n",
    "from DatasetLoader import *\n",
    "import torch, time, os\n",
    "import torch.nn as nn\n",
    "import torch.nn.functional as F\n",
    "#import networkx as nx\n",
    "import matplotlib.pyplot as plt\n",
    "#from matplotlib.gridspec import GridSpec\n",
    "\n",
    "device = torch.device(\"cuda:0\" if torch.cuda.is_available() else \"cpu\")\n",
    "#device = 'cpu'\n",
    "print ('Running on: {}'.format(device))\n",
    "\n",
    "dataset = 'shd'\n",
    "ds_method = dataset\n",
    "dataset_path = r'./../../datasets'\n",
    "thresh = 0.3\n",
    "\n",
    "if dataset == 'shd':\n",
    "    batch_size = 256 # default 256\n",
    "    learning_rate = 1e-4 # default 1e-4\n",
    "    time_window = 50 # shd 50, nmnist 25-30\n",
    "    #time_window = 100\n",
    "    train_path = dataset_path+'/shd_digits/shd_train.h5'\n",
    "    test_path = dataset_path+'/shd_digits/shd_test.h5'\n",
    "elif dataset == 'marshalling':\n",
    "    batch_size = 20 # default 256\n",
    "    learning_rate = 1e-4 # default 1e-4\n",
    "    time_window = 50 # shd 50, nmnist 25-30\n",
    "    #time_window = 100\n",
    "    ds_method = 'nmnist'\n",
    "    train_path = dataset_path+'/marshalling/marshalling50_d5_train.mat'\n",
    "    test_path = dataset_path+'/marshalling/marshalling50_d5_test.mat'    \n",
    "elif dataset == 'nmnist':\n",
    "    batch_size = 200 \n",
    "    learning_rate = 1e-4\n",
    "    time_window = 25     \n",
    "    train_path = dataset_path+'/nmnist/nmnist_train.mat'\n",
    "    test_path = dataset_path+'/nmnist/nmnist_test.mat'  \n",
    "    \n",
    "# load datasets\n",
    "print(\"loading test set...\")\n",
    "test_dataset = DatasetLoader(test_path, ds_method, time_window, 'cpu')\n",
    "print(\"loading training set...\")\n",
    "train_dataset = DatasetLoader(train_path, ds_method, time_window, device)\n",
    "print(\"loading data with pytorch\")\n",
    "test_loader = torch.utils.data.DataLoader(dataset=test_dataset,\n",
    "                                          batch_size=batch_size,\n",
    "                                          shuffle=False, drop_last=True)\n",
    "\n",
    "train_loader = torch.utils.data.DataLoader(dataset=train_dataset,\n",
    "                                           batch_size=batch_size,\n",
    "                                           shuffle=True, drop_last=True)\n",
    "    "
   ]
  },
  {
   "cell_type": "code",
   "execution_count": 2,
   "id": "still-memory",
   "metadata": {},
   "outputs": [
    {
     "data": {
      "text/plain": [
       "RSNN(\n",
       "  (fc_ih): Linear(in_features=700, out_features=512, bias=False)\n",
       "  (fc_hh): Linear(in_features=512, out_features=512, bias=False)\n",
       "  (fc_ho): Linear(in_features=512, out_features=20, bias=False)\n",
       ")"
      ]
     },
     "execution_count": 2,
     "metadata": {},
     "output_type": "execute_result"
    }
   ],
   "source": [
    "from snn_models import *\n",
    "%load_ext autoreload\n",
    "%autoreload 1\n",
    "%aimport snn_models\n",
    "\n",
    "num_hidden = 512\n",
    "#tau_m = 'adp'\n",
    "tau_m = 0.8305\n",
    "#snn = RSNN_delay(d='shd', num_hidden=128, thresh=0.3, decay=0.3, batch_size=batch_size, win=50, device=device)\n",
    "#snn = RSNN('custom_3588_10', num_hidden=num_hidden, thresh=0.3, tau_m=tau_m, vreset=0.0, batch_size=batch_size, win=time_window, device=device)\n",
    "snn = RSNN(dataset, num_hidden=num_hidden, thresh=0.3, tau_m=tau_m, vreset=0.0, batch_size=batch_size, win=time_window, device=device)\n",
    "snn.to(device)"
   ]
  },
  {
   "cell_type": "code",
   "execution_count": 3,
   "id": "novel-death",
   "metadata": {},
   "outputs": [
    {
     "name": "stdout",
     "output_type": "stream",
     "text": [
      "shd_rnn_512_0.8305.t7\n"
     ]
    }
   ],
   "source": [
    "# training configuration\n",
    "\n",
    "num_epochs = 20\n",
    "modelname = '{}_rnn_{}_{}.t7'.format(dataset, snn.num_hidden, tau_m)\n",
    "num_samples = train_dataset.images.size()[0]\n",
    "\n",
    "# super pythonic way to extract the parameters that will have 'normal' learning rate\n",
    "base_params = [getattr(snn,name.split('.')[0]).weight for name, _ in snn.state_dict().items() if name[0]=='f']\n",
    "\n",
    "# setting different learning rate for tau_m, if neeeded\n",
    "if tau_m=='adp':\n",
    "    optimizer = torch.optim.Adam([\n",
    "        {'params': base_params},\n",
    "        {'params': snn.tau_m_h, 'lr': learning_rate * 10.0},\n",
    "        {'params': snn.tau_m_o, 'lr': learning_rate * 10.0}],\n",
    "        lr=learning_rate)\n",
    "else:    \n",
    "    optimizer = torch.optim.Adam([\n",
    "        {'params': base_params}],\n",
    "        lr=learning_rate)\n",
    "    \n",
    "act_fun = ActFun.apply\n",
    "print(modelname)"
   ]
  },
  {
   "cell_type": "code",
   "execution_count": 4,
   "id": "reported-ceiling",
   "metadata": {
    "scrolled": false
   },
   "outputs": [
    {
     "name": "stdout",
     "output_type": "stream",
     "text": [
      "Epoch [1/20]\n",
      "Step [10/31], Loss: 0.59379\n",
      "Step [20/31], Loss: 0.53715\n",
      "Step [30/31], Loss: 0.51322\n",
      "Time elasped: 2.9421536922454834\n",
      "Epoch [2/20]\n",
      "Step [10/31], Loss: 0.49453\n",
      "Step [20/31], Loss: 0.48410\n",
      "Step [30/31], Loss: 0.47655\n",
      "Time elasped: 2.386866331100464\n",
      "Epoch [3/20]\n",
      "Step [10/31], Loss: 0.46827\n",
      "Step [20/31], Loss: 0.46021\n",
      "Step [30/31], Loss: 0.45719\n",
      "Time elasped: 2.402754545211792\n",
      "Epoch [4/20]\n",
      "Step [10/31], Loss: 0.45176\n",
      "Step [20/31], Loss: 0.44640\n",
      "Step [30/31], Loss: 0.44445\n",
      "Time elasped: 2.427008628845215\n",
      "Epoch [5/20]\n",
      "Step [10/31], Loss: 0.43919\n",
      "Step [20/31], Loss: 0.43575\n",
      "Step [30/31], Loss: 0.43327\n",
      "Time elasped: 2.4214813709259033\n",
      "avg spk_count per neuron for all 50 timesteps 1.1204833984375\n",
      "Test Accuracy of the model on the test samples: 34.521\n",
      "Epoch [6/20]\n",
      "Step [10/31], Loss: 0.42878\n",
      "Step [20/31], Loss: 0.42726\n",
      "Step [30/31], Loss: 0.42404\n",
      "Time elasped: 2.4272303581237793\n",
      "Epoch [7/20]\n",
      "Step [10/31], Loss: 0.41813\n",
      "Step [20/31], Loss: 0.41757\n",
      "Step [30/31], Loss: 0.41576\n",
      "Time elasped: 2.425854444503784\n",
      "Epoch [8/20]\n",
      "Step [10/31], Loss: 0.41314\n",
      "Step [20/31], Loss: 0.40938\n",
      "Step [30/31], Loss: 0.40634\n",
      "Time elasped: 2.445457935333252\n",
      "Epoch [9/20]\n",
      "Step [10/31], Loss: 0.40560\n",
      "Step [20/31], Loss: 0.40121\n",
      "Step [30/31], Loss: 0.39858\n",
      "Time elasped: 2.4665255546569824\n",
      "Epoch [10/20]\n",
      "Step [10/31], Loss: 0.39550\n",
      "Step [20/31], Loss: 0.39143\n",
      "Step [30/31], Loss: 0.38635\n",
      "Time elasped: 2.503451347351074\n",
      "avg spk_count per neuron for all 50 timesteps 1.5071182250976562\n",
      "Test Accuracy of the model on the test samples: 44.531\n",
      "Epoch [11/20]\n",
      "Step [10/31], Loss: 0.38586\n",
      "Step [20/31], Loss: 0.38269\n",
      "Step [30/31], Loss: 0.37866\n",
      "Time elasped: 2.443197727203369\n",
      "Epoch [12/20]\n",
      "Step [10/31], Loss: 0.37177\n",
      "Step [20/31], Loss: 0.36684\n",
      "Step [30/31], Loss: 0.36552\n",
      "Time elasped: 2.4153361320495605\n",
      "Epoch [13/20]\n",
      "Step [10/31], Loss: 0.35997\n",
      "Step [20/31], Loss: 0.35771\n",
      "Step [30/31], Loss: 0.35666\n",
      "Time elasped: 2.484248161315918\n",
      "Epoch [14/20]\n",
      "Step [10/31], Loss: 0.34954\n",
      "Step [20/31], Loss: 0.34446\n",
      "Step [30/31], Loss: 0.34689\n",
      "Time elasped: 2.536206007003784\n",
      "Epoch [15/20]\n",
      "Step [10/31], Loss: 0.34204\n",
      "Step [20/31], Loss: 0.33587\n",
      "Step [30/31], Loss: 0.33316\n",
      "Time elasped: 2.422144889831543\n",
      "avg spk_count per neuron for all 50 timesteps 2.2808380126953125\n",
      "Test Accuracy of the model on the test samples: 52.637\n",
      "Epoch [16/20]\n",
      "Step [10/31], Loss: 0.32884\n",
      "Step [20/31], Loss: 0.33438\n",
      "Step [30/31], Loss: 0.33493\n",
      "Time elasped: 2.428499460220337\n",
      "Epoch [17/20]\n",
      "Step [10/31], Loss: 0.31914\n",
      "Step [20/31], Loss: 0.32032\n",
      "Step [30/31], Loss: 0.32866\n",
      "Time elasped: 2.4178378582000732\n",
      "Epoch [18/20]\n",
      "Step [10/31], Loss: 0.31604\n",
      "Step [20/31], Loss: 0.30927\n",
      "Step [30/31], Loss: 0.30784\n",
      "Time elasped: 2.4620373249053955\n",
      "Epoch [19/20]\n",
      "Step [10/31], Loss: 0.31222\n",
      "Step [20/31], Loss: 0.30137\n",
      "Step [30/31], Loss: 0.30182\n",
      "Time elasped: 2.4939558506011963\n",
      "Epoch [20/20]\n",
      "Step [10/31], Loss: 0.30204\n",
      "Step [20/31], Loss: 0.30321\n",
      "Step [30/31], Loss: 0.29876\n",
      "Time elasped: 2.453817129135132\n",
      "avg spk_count per neuron for all 50 timesteps 2.8510589599609375\n",
      "Test Accuracy of the model on the test samples: 59.961\n"
     ]
    },
    {
     "ename": "NameError",
     "evalue": "name 't' is not defined",
     "output_type": "error",
     "traceback": [
      "\u001b[1;31m---------------------------------------------------------------------------\u001b[0m",
      "\u001b[1;31mNameError\u001b[0m                                 Traceback (most recent call last)",
      "\u001b[1;32m<ipython-input-4-9d44e89e2d02>\u001b[0m in \u001b[0;36m<module>\u001b[1;34m\u001b[0m\n\u001b[0;32m     18\u001b[0m \u001b[1;33m\u001b[0m\u001b[0m\n\u001b[0;32m     19\u001b[0m \u001b[1;32mwith\u001b[0m \u001b[0mopen\u001b[0m\u001b[1;33m(\u001b[0m\u001b[1;34m'training_log'\u001b[0m\u001b[1;33m,\u001b[0m \u001b[1;34m'a'\u001b[0m\u001b[1;33m)\u001b[0m \u001b[1;32mas\u001b[0m \u001b[0mlogs\u001b[0m\u001b[1;33m:\u001b[0m\u001b[1;33m\u001b[0m\u001b[1;33m\u001b[0m\u001b[0m\n\u001b[1;32m---> 20\u001b[1;33m     \u001b[0mlogs\u001b[0m\u001b[1;33m.\u001b[0m\u001b[0mwrite\u001b[0m\u001b[1;33m(\u001b[0m\u001b[1;34m\"\\nFinished training {} epochs for {}, batch_size {}, time_per_epoch {} s\"\u001b[0m\u001b[1;33m.\u001b[0m\u001b[0mformat\u001b[0m\u001b[1;33m(\u001b[0m\u001b[0mnum_epochs\u001b[0m\u001b[1;33m,\u001b[0m \u001b[0mmodelname\u001b[0m\u001b[1;33m,\u001b[0m \u001b[0mbatch_size\u001b[0m\u001b[1;33m,\u001b[0m \u001b[0mt\u001b[0m\u001b[1;33m)\u001b[0m\u001b[1;33m)\u001b[0m\u001b[1;33m\u001b[0m\u001b[1;33m\u001b[0m\u001b[0m\n\u001b[0m",
      "\u001b[1;31mNameError\u001b[0m: name 't' is not defined"
     ]
    }
   ],
   "source": [
    "# training loop\n",
    "taus_m = []\n",
    "for epoch in range(num_epochs):\n",
    "    print('Epoch [%d/%d]'  % (epoch + 1, num_epochs))\n",
    "    start_time = time.time()\n",
    "    snn.train_step(train_loader, optimizer=optimizer, criterion=nn.MSELoss(), num_samples = num_samples, spkreg=0.1)\n",
    "    t =  time.time() - start_time\n",
    "    print('Time elasped:', t)\n",
    "    \n",
    "    # adjust learning rate\n",
    "    optimizer = snn.lr_scheduler(optimizer, lr_decay_epoch=1)\n",
    "    \n",
    "    # weight and decay recording\n",
    "    #taus_m.append((snn.tau_m_h.data.detach().clone(), snn.tau_m_o.data.detach().clone()))\n",
    "    \n",
    "    if (epoch + 1) % 5 == 0:\n",
    "        snn.test(test_loader, criterion=nn.MSELoss())\n",
    "        #snn.save_model(modelname)     \n",
    "                \n",
    "with open('training_log', 'a') as logs:\n",
    "    logs.write(\"\\nFinished training {} epochs for {}, batch_size {}, time_per_epoch {} s\".format(num_epochs, modelname, batch_size, t))       "
   ]
  },
  {
   "cell_type": "code",
   "execution_count": 6,
   "id": "heavy-actor",
   "metadata": {},
   "outputs": [
    {
     "data": {
      "image/png": "[encoded data removed]",
      "text/plain": [
       "<Figure size 432x288 with 1 Axes>"
      ]
     },
     "metadata": {
      "needs_background": "light"
     },
     "output_type": "display_data"
    }
   ],
   "source": [
    "w = snn.plot_weights('hh', 'histogram')"
   ]
  },
  {
   "cell_type": "code",
   "execution_count": null,
   "id": "dress-december",
   "metadata": {},
   "outputs": [],
   "source": [
    "snn.save_to_numpy(modelname.split('.')[0])"
   ]
  },
  {
   "cell_type": "code",
   "execution_count": 7,
   "id": "incoming-endorsement",
   "metadata": {},
   "outputs": [
    {
     "data": {
      "image/png": "[encoded data removed]",
      "text/plain": [
       "<Figure size 432x288 with 1 Axes>"
      ]
     },
     "execution_count": 7,
     "metadata": {},
     "output_type": "execute_result"
    },
    {
     "data": {
      "image/png": "[encoded data removed]",
      "text/plain": [
       "<Figure size 432x288 with 1 Axes>"
      ]
     },
     "metadata": {
      "needs_background": "light"
     },
     "output_type": "display_data"
    }
   ],
   "source": [
    "snn.plot_loss()"
   ]
  },
  {
   "cell_type": "code",
   "execution_count": null,
   "id": "charged-illness",
   "metadata": {},
   "outputs": [],
   "source": [
    "loss_fig = snn.plot_loss()"
   ]
  },
  {
   "cell_type": "code",
   "execution_count": null,
   "id": "gorgeous-prince",
   "metadata": {},
   "outputs": [],
   "source": [
    "m = RSNN()"
   ]
  },
  {
   "cell_type": "code",
   "execution_count": null,
   "id": "stunning-twins",
   "metadata": {},
   "outputs": [],
   "source": [
    "m.load_model(modelname, 256, device)"
   ]
  },
  {
   "cell_type": "code",
   "execution_count": null,
   "id": "floppy-graduate",
   "metadata": {
    "scrolled": true
   },
   "outputs": [],
   "source": [
    "loss_fig = m.plot_loss()"
   ]
  }
 ],
 "metadata": {
  "kernelspec": {
   "display_name": "Python 3",
   "language": "python",
   "name": "python3"
  },
  "language_info": {
   "codemirror_mode": {
    "name": "ipython",
    "version": 3
   },
   "file_extension": ".py",
   "mimetype": "text/x-python",
   "name": "python",
   "nbconvert_exporter": "python",
   "pygments_lexer": "ipython3",
   "version": "3.6.13"
  }
 },
 "nbformat": 4,
 "nbformat_minor": 5
}
