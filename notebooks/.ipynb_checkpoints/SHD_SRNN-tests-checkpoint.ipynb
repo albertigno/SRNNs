{
 "cells": [
  {
   "cell_type": "code",
   "execution_count": 1,
   "id": "blind-ancient",
   "metadata": {},
   "outputs": [
    {
     "name": "stdout",
     "output_type": "stream",
     "text": [
      "True\n",
      "cuda:0\n"
     ]
    }
   ],
   "source": [
    "\"\"\"\n",
    "@author: albertigno\n",
    "\n",
    "\"\"\"\n",
    "\n",
    "from MyDataset import *\n",
    "from snn_models_with_delay import *\n",
    "\n",
    "import torch, time, os\n",
    "\n",
    "import torch.nn as nn\n",
    "import torch.nn.functional as F\n",
    "\n",
    "import networkx as nx\n",
    "\n",
    "import matplotlib.pyplot as plt\n",
    "from matplotlib.gridspec import GridSpec\n",
    "\n",
    "print(torch.cuda.is_available())\n",
    "device = torch.device(\"cuda:0\" if torch.cuda.is_available() else \"cpu\")\n",
    "print (device)"
   ]
  },
  {
   "cell_type": "code",
   "execution_count": 2,
   "id": "primary-great",
   "metadata": {},
   "outputs": [],
   "source": [
    "#os.environ['CUDA_VISIBLE_DEVICES'] = \"3\"\n",
    "thresh = 0.3\n",
    "decay = 0.3\n",
    "batch_size = 256 # default 256\n",
    "learning_rate = 1e-4 # default 1e-4\n",
    "time_window = 50 # shd\n",
    "#time_window = 15 # shd\n",
    "dataset_path = r'./../../datasets'\n",
    "\n",
    "best_acc = 0\n",
    "acc_record = list([])"
   ]
  },
  {
   "cell_type": "code",
   "execution_count": 3,
   "id": "given-reviewer",
   "metadata": {},
   "outputs": [
    {
     "name": "stdout",
     "output_type": "stream",
     "text": [
      "True\n",
      "cuda:0\n",
      "loading test set...\n",
      "num sample: 2264\n",
      "torch.Size([2264, 50, 700]) torch.Size([2264, 20])\n",
      "loading training set...\n",
      "num sample: 8156\n",
      "torch.Size([8156, 50, 700]) torch.Size([8156, 20])\n",
      "loading data with pytorch\n"
     ]
    }
   ],
   "source": [
    "print(torch.cuda.is_available())\n",
    "device = torch.device(\"cuda:0\" if torch.cuda.is_available() else \"cpu\")\n",
    "print (device)\n",
    "train_path = dataset_path+'/shd_digits/shd_train.h5'\n",
    "#train_path = dataset_path+'/shd_digits/shd_test.h5'\n",
    "test_path = dataset_path+'/shd_digits/shd_test.h5'\n",
    "# load datasets\n",
    "print(\"loading test set...\")\n",
    "test_dataset = MyDataset(test_path, 'hd_digits', time_window, device)\n",
    "print(\"loading training set...\")\n",
    "train_dataset = MyDataset(train_path, 'hd_digits', time_window, device)\n",
    "print(\"loading data with pytorch\")\n",
    "test_loader = torch.utils.data.DataLoader(dataset=test_dataset,\n",
    "                                          batch_size=batch_size,\n",
    "                                          shuffle=False, drop_last=True)\n",
    "\n",
    "train_loader = torch.utils.data.DataLoader(dataset=train_dataset,\n",
    "                                           batch_size=batch_size,\n",
    "                                           shuffle=True, drop_last=True)"
   ]
  },
  {
   "cell_type": "code",
   "execution_count": 4,
   "id": "generic-cement",
   "metadata": {},
   "outputs": [
    {
     "data": {
      "text/plain": [
       "RSNN(\n",
       "  (fc_ih): Linear(in_features=700, out_features=512, bias=False)\n",
       "  (fc_hh): Linear(in_features=512, out_features=512, bias=False)\n",
       "  (fc_ho): Linear(in_features=512, out_features=20, bias=False)\n",
       ")"
      ]
     },
     "execution_count": 4,
     "metadata": {},
     "output_type": "execute_result"
    }
   ],
   "source": [
    "tau_m = 'adp'\n",
    "#tau_m = 0.8305\n",
    "#snn = RSNN_delay(d='shd', num_hidden=128, thresh=0.3, decay=0.3, batch_size=batch_size, win=50, device=device)\n",
    "snn = RSNN(d='shd', num_hidden=512, thresh=0.3, tau_m=tau_m, batch_size=batch_size, win=time_window, device=device)\n",
    "snn.to(device)"
   ]
  },
  {
   "cell_type": "code",
   "execution_count": 5,
   "id": "junior-favorite",
   "metadata": {},
   "outputs": [
    {
     "name": "stdout",
     "output_type": "stream",
     "text": [
      "tau_m_h \n",
      "shd_rnn_512_adp.t7\n"
     ]
    }
   ],
   "source": [
    "# training configuration\n",
    "\n",
    "num_epochs = 100\n",
    "modelname = 'shd_rnn_{}_{}.t7'.format(snn.num_hidden, tau_m)\n",
    "num_samples = train_dataset.images.size()[0]\n",
    "\n",
    "#optimizer = torch.optim.Adam(snn.parameters(), lr=learning_rate)\n",
    "\n",
    "# set different learning rates\n",
    "base_params = [snn.fc_ih.weight,\n",
    "               snn.fc_hh.weight,\n",
    "               snn.fc_ho.weight, \n",
    "               ]\n",
    "if tau_m=='adp':\n",
    "    print('tau_m_h ')\n",
    "    optimizer = torch.optim.Adam([\n",
    "        {'params': base_params},\n",
    "        {'params': snn.tau_m_h, 'lr': learning_rate * 10.0}],\n",
    "        lr=learning_rate)\n",
    "else:    \n",
    "    optimizer = torch.optim.Adam([\n",
    "        {'params': base_params}],\n",
    "        lr=learning_rate)\n",
    "    \n",
    "act_fun = ActFun.apply\n",
    "print(modelname)"
   ]
  },
  {
   "cell_type": "code",
   "execution_count": 6,
   "id": "living-immigration",
   "metadata": {
    "scrolled": false
   },
   "outputs": [
    {
     "name": "stdout",
     "output_type": "stream",
     "text": [
      "Epoch [1/20]\n",
      "Step [10/31], Loss: 0.50306\n",
      "Step [20/31], Loss: 0.47814\n",
      "Step [30/31], Loss: 0.46784\n",
      "Time elasped: 2.8592660427093506\n",
      "Test Accuracy of the model on the test samples: 17.725\n",
      "Epoch [2/20]\n",
      "Step [10/31], Loss: 0.45751\n",
      "Step [20/31], Loss: 0.45066\n",
      "Step [30/31], Loss: 0.44464\n",
      "Time elasped: 2.36361026763916\n",
      "Epoch [3/20]\n",
      "Step [10/31], Loss: 0.43951\n",
      "Step [20/31], Loss: 0.43223\n",
      "Step [30/31], Loss: 0.42731\n",
      "Time elasped: 2.3223612308502197\n",
      "Epoch [4/20]\n",
      "Step [10/31], Loss: 0.42022\n",
      "Step [20/31], Loss: 0.41750\n",
      "Step [30/31], Loss: 0.41089\n",
      "Time elasped: 2.3423519134521484\n",
      "Epoch [5/20]\n",
      "Step [10/31], Loss: 0.40173\n",
      "Step [20/31], Loss: 0.39479\n",
      "Step [30/31], Loss: 0.38684\n",
      "Time elasped: 2.3074426651000977\n",
      "Epoch [6/20]\n",
      "Step [10/31], Loss: 0.37629\n",
      "Step [20/31], Loss: 0.37195\n",
      "Step [30/31], Loss: 0.36457\n",
      "Time elasped: 2.2887203693389893\n",
      "Test Accuracy of the model on the test samples: 48.340\n",
      "Epoch [7/20]\n",
      "Step [10/31], Loss: 0.35461\n",
      "Step [20/31], Loss: 0.35241\n",
      "Step [30/31], Loss: 0.34375\n",
      "Time elasped: 2.285522937774658\n",
      "Epoch [8/20]\n",
      "Step [10/31], Loss: 0.33192\n",
      "Step [20/31], Loss: 0.32894\n",
      "Step [30/31], Loss: 0.32108\n",
      "Time elasped: 2.3362748622894287\n",
      "Epoch [9/20]\n",
      "Step [10/31], Loss: 0.31881\n",
      "Step [20/31], Loss: 0.31431\n",
      "Step [30/31], Loss: 0.30389\n",
      "Time elasped: 2.330077886581421\n",
      "Epoch [10/20]\n",
      "Step [10/31], Loss: 0.29730\n",
      "Step [20/31], Loss: 0.29104\n",
      "Step [30/31], Loss: 0.29975\n",
      "Time elasped: 2.360851764678955\n",
      "Epoch [11/20]\n",
      "Step [10/31], Loss: 0.29435\n",
      "Step [20/31], Loss: 0.28813\n",
      "Step [30/31], Loss: 0.29454\n",
      "Time elasped: 2.3647677898406982\n",
      "Test Accuracy of the model on the test samples: 51.025\n",
      "Epoch [12/20]\n",
      "Step [10/31], Loss: 0.28363\n",
      "Step [20/31], Loss: 0.28311\n",
      "Step [30/31], Loss: 0.27589\n",
      "Time elasped: 2.3484747409820557\n",
      "Epoch [13/20]\n",
      "Step [10/31], Loss: 0.26608\n",
      "Step [20/31], Loss: 0.26579\n",
      "Step [30/31], Loss: 0.26184\n",
      "Time elasped: 2.3517611026763916\n",
      "Epoch [14/20]\n",
      "Step [10/31], Loss: 0.25690\n",
      "Step [20/31], Loss: 0.25941\n",
      "Step [30/31], Loss: 0.25576\n",
      "Time elasped: 2.369614362716675\n",
      "Epoch [15/20]\n",
      "Step [10/31], Loss: 0.27780\n",
      "Step [20/31], Loss: 0.27105\n",
      "Step [30/31], Loss: 0.25423\n",
      "Time elasped: 2.3353023529052734\n",
      "Epoch [16/20]\n",
      "Step [10/31], Loss: 0.24544\n",
      "Step [20/31], Loss: 0.24208\n",
      "Step [30/31], Loss: 0.25294\n",
      "Time elasped: 2.3134138584136963\n",
      "Test Accuracy of the model on the test samples: 59.277\n",
      "Epoch [17/20]\n",
      "Step [10/31], Loss: 0.25669\n",
      "Step [20/31], Loss: 0.24727\n",
      "Step [30/31], Loss: 0.24720\n",
      "Time elasped: 2.3220322132110596\n",
      "Epoch [18/20]\n",
      "Step [10/31], Loss: 0.24241\n",
      "Step [20/31], Loss: 0.23465\n",
      "Step [30/31], Loss: 0.23326\n",
      "Time elasped: 2.3348660469055176\n",
      "Epoch [19/20]\n",
      "Step [10/31], Loss: 0.25201\n",
      "Step [20/31], Loss: 0.24305\n",
      "Step [30/31], Loss: 0.23072\n",
      "Time elasped: 2.389559745788574\n",
      "Epoch [20/20]\n",
      "Step [10/31], Loss: 0.22585\n",
      "Step [20/31], Loss: 0.22359\n",
      "Step [30/31], Loss: 0.22431\n",
      "Time elasped: 2.4405016899108887\n"
     ]
    }
   ],
   "source": [
    "# training loop\n",
    "taus_m = []\n",
    "for epoch in range(num_epochs):\n",
    "    print('Epoch [%d/%d]'  % (epoch + 1, num_epochs))\n",
    "    start_time = time.time()\n",
    "    snn.train_step(train_loader, optimizer=optimizer, criterion=nn.MSELoss(), num_samples = num_samples)\n",
    "    print('Time elasped:', time.time() - start_time)\n",
    "    \n",
    "    # update learning rate\n",
    "    optimizer = snn.lr_scheduler(optimizer, lr_decay_epoch=1)\n",
    "    \n",
    "    # weight and decay recording\n",
    "    taus_m.append((snn.tau_m_h.data.detach().clone(), snn.tau_m_o.data.detach().clone()))\n",
    "    \n",
    "    if epoch % 5 ==0:\n",
    "        snn.test(test_loader, criterion=nn.MSELoss())\n",
    "        snn.save_model(modelname)   "
   ]
  },
  {
   "cell_type": "code",
   "execution_count": 7,
   "id": "preceding-radar",
   "metadata": {},
   "outputs": [],
   "source": [
    "snn.save_to_numpy(modelname.split('.')[0])"
   ]
  },
  {
   "cell_type": "code",
   "execution_count": 8,
   "id": "greater-barbados",
   "metadata": {},
   "outputs": [
    {
     "data": {
      "text/plain": [
       "<AxesSubplot:ylabel='Count'>"
      ]
     },
     "execution_count": 8,
     "metadata": {},
     "output_type": "execute_result"
    },
    {
     "data": {
      "image/png": "[encoded data removed]",
      "text/plain": [
       "<Figure size 432x288 with 1 Axes>"
      ]
     },
     "metadata": {
      "needs_background": "light"
     },
     "output_type": "display_data"
    }
   ],
   "source": [
    "import seaborn as sns\n",
    "import pandas as pd\n",
    "\n",
    "initial_taus = taus_m[0][0].cpu().numpy()\n",
    "final_taus = taus_m[-1][0].cpu().numpy()\n",
    "\n",
    "df = pd.DataFrame(initial_taus, columns=['Epoch 1'])\n",
    "df['Epoch {}'.format(len(taus_m))] = final_taus\n",
    "\n",
    "sns.histplot(data=df, bins=100)"
   ]
  },
  {
   "cell_type": "code",
   "execution_count": 9,
   "id": "individual-amsterdam",
   "metadata": {},
   "outputs": [
    {
     "data": {
      "text/plain": [
       "[<matplotlib.lines.Line2D at 0x11db59f1320>]"
      ]
     },
     "execution_count": 9,
     "metadata": {},
     "output_type": "execute_result"
    },
    {
     "data": {
      "image/png": "[encoded data removed]",
      "text/plain": [
       "<Figure size 432x288 with 1 Axes>"
      ]
     },
     "metadata": {
      "needs_background": "light"
     },
     "output_type": "display_data"
    }
   ],
   "source": [
    "plt.plot(np.array(snn.test_loss)[:,0], np.array(snn.test_loss)[:,1])"
   ]
  },
  {
   "cell_type": "code",
   "execution_count": 15,
   "id": "thick-prevention",
   "metadata": {},
   "outputs": [
    {
     "data": {
      "text/plain": [
       "<matplotlib.legend.Legend at 0x11db5a31d30>"
      ]
     },
     "execution_count": 15,
     "metadata": {},
     "output_type": "execute_result"
    },
    {
     "data": {
      "image/png": "[encoded data removed]",
      "text/plain": [
       "<Figure size 432x288 with 1 Axes>"
      ]
     },
     "metadata": {
      "needs_background": "light"
     },
     "output_type": "display_data"
    }
   ],
   "source": [
    "plt.plot(np.array(snn.train_loss)[:,0], np.array(snn.train_loss)[:,1], label='h')\n",
    "plt.plot(np.array(snn.test_loss)[:,0], np.array(snn.test_loss)[:,1], label= 'j')\n",
    "plt.legend()"
   ]
  },
  {
   "cell_type": "code",
   "execution_count": 11,
   "id": "studied-adams",
   "metadata": {},
   "outputs": [
    {
     "data": {
      "text/plain": [
       "array([0.00017995, 0.00014188, 0.00012704, 0.00011577])"
      ]
     },
     "execution_count": 11,
     "metadata": {},
     "output_type": "execute_result"
    }
   ],
   "source": [
    "np.array(snn.test_loss)[:,1]"
   ]
  },
  {
   "cell_type": "code",
   "execution_count": 14,
   "id": "uniform-renaissance",
   "metadata": {},
   "outputs": [
    {
     "data": {
      "image/png": "[encoded data removed]",
      "text/plain": [
       "<Figure size 432x288 with 1 Axes>"
      ]
     },
     "execution_count": 14,
     "metadata": {},
     "output_type": "execute_result"
    },
    {
     "data": {
      "image/png": "[encoded data removed]",
      "text/plain": [
       "<Figure size 432x288 with 1 Axes>"
      ]
     },
     "metadata": {
      "needs_background": "light"
     },
     "output_type": "display_data"
    }
   ],
   "source": [
    "snn.plot_loss()"
   ]
  },
  {
   "cell_type": "code",
   "execution_count": null,
   "id": "specialized-public",
   "metadata": {},
   "outputs": [],
   "source": []
  }
 ],
 "metadata": {
  "kernelspec": {
   "display_name": "Python 3",
   "language": "python",
   "name": "python3"
  },
  "language_info": {
   "codemirror_mode": {
    "name": "ipython",
    "version": 3
   },
   "file_extension": ".py",
   "mimetype": "text/x-python",
   "name": "python",
   "nbconvert_exporter": "python",
   "pygments_lexer": "ipython3",
   "version": "3.6.13"
  }
 },
 "nbformat": 4,
 "nbformat_minor": 5
}
